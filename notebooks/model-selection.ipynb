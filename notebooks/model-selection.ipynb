{
 "cells": [
  {
   "cell_type": "markdown",
   "metadata": {},
   "source": [
    "# Imports"
   ]
  },
  {
   "cell_type": "code",
   "execution_count": 547,
   "metadata": {},
   "outputs": [],
   "source": [
    "import numpy as np\n",
    "import pandas as pd\n",
    "import matplotlib.pyplot as plt\n",
    "import seaborn as sns\n",
    "import os\n",
    "from sklearn import svm"
   ]
  },
  {
   "cell_type": "markdown",
   "metadata": {},
   "source": [
    "# Settings"
   ]
  },
  {
   "cell_type": "code",
   "execution_count": 548,
   "metadata": {},
   "outputs": [],
   "source": [
    "root_path = os.path.join(os.getcwd(), 'motionsense-dataset')\n",
    "subjects_info_path = os.path.join(root_path, 'data_subjects_info.csv')\n",
    "\n",
    "DATA_ROOT_PATH = os.path.join(root_path, 'A_DeviceMotion_data')\n",
    "NUM_PARTICIPANTS = 24\n",
    "EXPERIMENT_LABELS = {\n",
    "    'sit': 0,\n",
    "    'dws': 1,\n",
    "    'jog': 2,\n",
    "    'std': 3,\n",
    "    'ups': 4,\n",
    "    'wlk': 5\n",
    "}"
   ]
  },
  {
   "cell_type": "markdown",
   "metadata": {},
   "source": [
    "# Data Preparation"
   ]
  },
  {
   "cell_type": "code",
   "execution_count": 549,
   "metadata": {},
   "outputs": [],
   "source": [
    "def get_experiment_label(dir_name):\n",
    "    return EXPERIMENT_LABELS[dir_name[:3]]"
   ]
  },
  {
   "cell_type": "code",
   "execution_count": 550,
   "metadata": {},
   "outputs": [],
   "source": [
    "def dataframe_from_dir(dir_name):\n",
    "    '''\n",
    "    Receives a single experiment dirname\n",
    "    and returns a list of dataframes for each subject\n",
    "    of the specified experiment\n",
    "    '''\n",
    "    dfs = []\n",
    "    labels = []\n",
    "    for i in range(1, NUM_PARTICIPANTS + 1):\n",
    "        file_name = 'sub_' + str(i) + '.csv'\n",
    "        file_path = os.path.join(DATA_ROOT_PATH, dir_name, file_name)\n",
    "        df = pd.read_csv(file_path)\n",
    "        dfs.append(df)\n",
    "        labels.append(get_experiment_label(dir_name))\n",
    "    return dfs, labels"
   ]
  },
  {
   "cell_type": "code",
   "execution_count": 551,
   "metadata": {},
   "outputs": [],
   "source": [
    "def dataframes_from_files(data_dirs):\n",
    "    '''\n",
    "    Receives a list of directories\n",
    "    and returns a list of dataframes for each subject\n",
    "    and each experiment specified\n",
    "    '''\n",
    "    dfs = []\n",
    "    labels = []\n",
    "    for dir_name in data_dirs:\n",
    "        dir_dfs, dir_labels = dataframe_from_dir(dir_name)\n",
    "        dfs.extend(dir_dfs)\n",
    "        labels.extend(dir_labels)\n",
    "    return dfs, labels"
   ]
  },
  {
   "cell_type": "code",
   "execution_count": 552,
   "metadata": {},
   "outputs": [],
   "source": [
    "def dataframes_to_feature_vectors(dfs, feature, num_cols):\n",
    "    '''\n",
    "    Receives a list of dataframes and a feature\n",
    "    and returns a dataframe and a matrix\n",
    "    where each column is a timestamp.\n",
    "    Note that the number of columns (i.e.) timestamps\n",
    "    is constant, and should refer to the minimal experiment.\n",
    "    '''\n",
    "    data_matrix = []\n",
    "    \n",
    "    for df in dfs:\n",
    "        values = df[feature].head(num_cols).tolist()\n",
    "        data_matrix.append(values)\n",
    "    \n",
    "    feature_df = pd.DataFrame(data_matrix)\n",
    "    return feature_df, data_matrix"
   ]
  },
  {
   "cell_type": "markdown",
   "metadata": {},
   "source": [
    "# Sit vs. Walk"
   ]
  },
  {
   "cell_type": "code",
   "execution_count": 553,
   "metadata": {},
   "outputs": [],
   "source": [
    "train_dirs = ['sit_5', 'sit_13', 'wlk_7', 'wlk_8']\n",
    "test_dirs = ['wlk_15']"
   ]
  },
  {
   "cell_type": "code",
   "execution_count": 554,
   "metadata": {},
   "outputs": [],
   "source": [
    "train_dfs, train_labels = dataframes_from_files(train_dirs)\n",
    "test_dfs, test_labels = dataframes_from_files(test_dirs)\n",
    "dfs = train_dfs + test_dfs\n",
    "num_cols = min(df.shape[0] for df in dfs) # Cut to minimum experiment length\n",
    "features = dfs[0].columns.tolist()[1:]"
   ]
  },
  {
   "cell_type": "markdown",
   "metadata": {},
   "source": [
    "### SVM"
   ]
  },
  {
   "cell_type": "code",
   "execution_count": 555,
   "metadata": {},
   "outputs": [],
   "source": [
    "def run_SVM(train_set, train_labels, test_set, test_labels):\n",
    "    '''\n",
    "    Returns the 0-1 loss and the predicted labels\n",
    "    '''\n",
    "    \n",
    "    classifier = svm.SVC()\n",
    "    classifier.fit(train_set, train_labels)\n",
    "    \n",
    "    predicted_labels = []\n",
    "    for sample in test_set:\n",
    "        predicted_labels.append(classifier.predict([sample])[0])\n",
    "    \n",
    "    loss = sum(prediction != label for prediction, label in zip(predicted_labels, test_labels))\n",
    "    loss /= len(test_labels)\n",
    "    \n",
    "    return predicted_labels, loss"
   ]
  },
  {
   "cell_type": "markdown",
   "metadata": {},
   "source": [
    "### Run SVM for all features"
   ]
  },
  {
   "cell_type": "code",
   "execution_count": 556,
   "metadata": {},
   "outputs": [],
   "source": [
    "scores = dict()\n",
    "\n",
    "for feature in features:\n",
    "    train_feature_df, train_set = dataframes_to_feature_vectors(train_dfs, feature, num_cols)\n",
    "    test_feature_df, test_set = dataframes_to_feature_vectors(test_dfs, feature, num_cols)\n",
    "    \n",
    "    predictions, loss = run_SVM(train_set, train_labels, test_set, test_labels)\n",
    "    scores[feature] = 1 - loss"
   ]
  },
  {
   "cell_type": "code",
   "execution_count": 557,
   "metadata": {},
   "outputs": [
    {
     "data": {
      "text/plain": [
       "{'attitude.pitch': 0.9583333333333334,\n",
       " 'attitude.roll': 0.7916666666666666,\n",
       " 'attitude.yaw': 0.625,\n",
       " 'gravity.x': 0.8333333333333334,\n",
       " 'gravity.y': 0.9583333333333334,\n",
       " 'gravity.z': 1.0,\n",
       " 'rotationRate.x': 1.0,\n",
       " 'rotationRate.y': 1.0,\n",
       " 'rotationRate.z': 0.875,\n",
       " 'userAcceleration.x': 0.20833333333333337,\n",
       " 'userAcceleration.y': 0.9583333333333334,\n",
       " 'userAcceleration.z': 0.625}"
      ]
     },
     "execution_count": 557,
     "metadata": {},
     "output_type": "execute_result"
    }
   ],
   "source": [
    "scores"
   ]
  },
  {
   "cell_type": "markdown",
   "metadata": {},
   "source": [
    "This is clearly not a clean result since we only test on 24 same-label samples."
   ]
  },
  {
   "cell_type": "markdown",
   "metadata": {},
   "source": [
    "# Combine all experiments"
   ]
  },
  {
   "cell_type": "code",
   "execution_count": 558,
   "metadata": {},
   "outputs": [],
   "source": [
    "all_dirs = [dir for dir in os.walk(DATA_ROOT_PATH)][0][1]\n",
    "all_dfs, all_labels = dataframes_from_files(all_dirs)"
   ]
  },
  {
   "cell_type": "code",
   "execution_count": 559,
   "metadata": {},
   "outputs": [],
   "source": [
    "# Remove short experiments (< 900 timestamps)\n",
    "short_indices = [i for i, df in enumerate(all_dfs) if df.shape[0] < 900]\n",
    "for i in short_indices:\n",
    "    del all_dfs[i]\n",
    "    del all_labels[i]\n",
    "\n",
    "num_cols =  min(df.shape[0] for df in all_dfs) # Cut to minimum experiment length"
   ]
  },
  {
   "cell_type": "markdown",
   "metadata": {},
   "source": [
    "### Prepare data and test sets"
   ]
  },
  {
   "cell_type": "code",
   "execution_count": 560,
   "metadata": {},
   "outputs": [],
   "source": [
    "all_size = len(all_dfs)\n",
    "test_size = round(0.2 * all_size)\n",
    "test_indices = np.random.choice(all_size, test_size, replace=False)\n",
    "test_dfs = []\n",
    "test_labels = []\n",
    "\n",
    "for i in sorted(test_indices, reverse=True):\n",
    "    test_dfs.append(all_dfs.pop(i))\n",
    "    test_labels.append(all_labels.pop(i))"
   ]
  },
  {
   "cell_type": "markdown",
   "metadata": {},
   "source": [
    "### Multiclass SVM"
   ]
  },
  {
   "cell_type": "code",
   "execution_count": 561,
   "metadata": {},
   "outputs": [],
   "source": [
    "all_scores = dict()\n",
    "\n",
    "for feature in features:\n",
    "    train_feature_df, train_set = dataframes_to_feature_vectors(all_dfs, feature, num_cols)\n",
    "    test_feature_df, test_set = dataframes_to_feature_vectors(test_dfs, feature, num_cols)\n",
    "    \n",
    "    predictions, loss = run_SVM(train_set, all_labels, test_set, test_labels)\n",
    "    all_scores[feature] = 1 - loss"
   ]
  },
  {
   "cell_type": "code",
   "execution_count": 562,
   "metadata": {},
   "outputs": [
    {
     "data": {
      "text/plain": [
       "{'attitude.pitch': 0.3623188405797102,\n",
       " 'attitude.roll': 0.46376811594202894,\n",
       " 'attitude.yaw': 0.5072463768115942,\n",
       " 'gravity.x': 0.2753623188405797,\n",
       " 'gravity.y': 0.30434782608695654,\n",
       " 'gravity.z': 0.2753623188405797,\n",
       " 'rotationRate.x': 0.4347826086956522,\n",
       " 'rotationRate.y': 0.6521739130434783,\n",
       " 'rotationRate.z': 0.37681159420289856,\n",
       " 'userAcceleration.x': 0.17391304347826086,\n",
       " 'userAcceleration.y': 0.30434782608695654,\n",
       " 'userAcceleration.z': 0.24637681159420288}"
      ]
     },
     "execution_count": 562,
     "metadata": {},
     "output_type": "execute_result"
    }
   ],
   "source": [
    "all_scores"
   ]
  },
  {
   "cell_type": "markdown",
   "metadata": {},
   "source": [
    "# Deep learning solutions"
   ]
  },
  {
   "cell_type": "code",
   "execution_count": 563,
   "metadata": {},
   "outputs": [],
   "source": [
    "import tensorflow as tf"
   ]
  }
 ],
 "metadata": {
  "kernelspec": {
   "display_name": "Python 3",
   "language": "python",
   "name": "python3"
  },
  "language_info": {
   "codemirror_mode": {
    "name": "ipython",
    "version": 3
   },
   "file_extension": ".py",
   "mimetype": "text/x-python",
   "name": "python",
   "nbconvert_exporter": "python",
   "pygments_lexer": "ipython3",
   "version": "3.6.4"
  }
 },
 "nbformat": 4,
 "nbformat_minor": 2
}
