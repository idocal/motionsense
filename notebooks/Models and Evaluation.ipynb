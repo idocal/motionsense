{
 "cells": [
  {
   "cell_type": "markdown",
   "metadata": {},
   "source": [
    "# Imports"
   ]
  },
  {
   "cell_type": "code",
   "execution_count": 1,
   "metadata": {},
   "outputs": [],
   "source": [
    "%matplotlib inline\n",
    "import pandas as pd\n",
    "import numpy as np\n",
    "import seaborn as sns\n",
    "import matplotlib.pyplot as plt\n",
    "from sliding_window import SlidingWindow"
   ]
  },
  {
   "cell_type": "markdown",
   "metadata": {},
   "source": [
    "# Globals"
   ]
  },
  {
   "cell_type": "code",
   "execution_count": 2,
   "metadata": {},
   "outputs": [],
   "source": [
    "df = pd.read_csv('full_data.gz', compression='gzip')\n",
    "df = df.drop(['Unnamed: 0'], axis=1).set_index('time')"
   ]
  },
  {
   "cell_type": "code",
   "execution_count": 3,
   "metadata": {},
   "outputs": [],
   "source": [
    "num_experiments = 16\n",
    "num_participants = 24\n",
    "exclude = 10\n",
    "analytic_functions_list = ['mean', 'sum', 'median', 'min', 'max', 'std']\n",
    "labels_dict = {'wlk': 0, 'sit': 1, \"std\": 2, \"ups\": 3, \"jog\": 4, \"dws\": 5}"
   ]
  },
  {
   "cell_type": "markdown",
   "metadata": {},
   "source": [
    "# Helper Functions"
   ]
  },
  {
   "cell_type": "code",
   "execution_count": 4,
   "metadata": {},
   "outputs": [],
   "source": [
    "def data_allocation(df):\n",
    "    # Define X,Y\n",
    "    df = df.sample(frac=1).reset_index(drop=True)\n",
    "    X, y = df.drop([\"action\"], axis=1), df[\"action\"]\n",
    "    y = y.replace(labels_dict)\n",
    "    \n",
    "    # Divide to training, validation and test set 70%, 10%, 20%\n",
    "    num_training = int(df.shape[0] * 0.7)\n",
    "    num_validation = int(df.shape[0] * 0.1)\n",
    "    X_train, y_train = X[:num_training], y[:num_training]\n",
    "    X_vald, y_vald = X[num_training:num_training + num_validation], y[num_training:num_training + num_validation]\n",
    "    X_test, y_test = X[num_training + num_validation:], y[num_training + num_validation:]\n",
    "    \n",
    "    return X_train, y_train, X_vald, y_vald, X_test, y_test"
   ]
  },
  {
   "cell_type": "code",
   "execution_count": 5,
   "metadata": {},
   "outputs": [],
   "source": [
    "from sklearn.metrics import classification_report, confusion_matrix\n",
    "\n",
    "def create_classes(labels_dict):\n",
    "    classes_indexs = labels_dict.items()\n",
    "    classes_indexs = sorted(classes_indexs, key=lambda x: x[1])\n",
    "    classes_names = [label for label, index in classes_indexs]\n",
    "    return classes_names\n",
    "\n",
    "def evaluate_results(y_true, y_pred, classes):\n",
    "        print(\"---- Printing classification report ----\")\n",
    "        print(classification_report(y_true, y_pred, target_names=classes))\n",
    "        \n",
    "        accuracy = sum([1 for i in range(len(y_true)) if y_true.tolist()[i] == y_pred[i]]) * 1.0\n",
    "        accuracy /= len(y_true)\n",
    "        return accuracy"
   ]
  },
  {
   "cell_type": "markdown",
   "metadata": {},
   "source": [
    "# Model Evaluation"
   ]
  },
  {
   "cell_type": "markdown",
   "metadata": {},
   "source": [
    "## Prepare Dataframe to Classify"
   ]
  },
  {
   "cell_type": "code",
   "execution_count": 6,
   "metadata": {},
   "outputs": [],
   "source": [
    "window = SlidingWindow(df, 10, num_experiments, num_participants, exclude, analytic_functions_list)\n",
    "sld_df = window.df\n",
    "X_train, y_train, X_vald, y_vald, X_test, y_test = data_allocation(sld_df)\n",
    "classes_names = create_classes(labels_dict)"
   ]
  },
  {
   "cell_type": "markdown",
   "metadata": {},
   "source": [
    "## Random Forest Classifier"
   ]
  },
  {
   "cell_type": "code",
   "execution_count": 7,
   "metadata": {},
   "outputs": [
    {
     "name": "stderr",
     "output_type": "stream",
     "text": [
      "[Parallel(n_jobs=-1)]: Done   6 out of  10 | elapsed:   33.6s remaining:   22.4s\n",
      "[Parallel(n_jobs=-1)]: Done  10 out of  10 | elapsed:   54.1s finished\n"
     ]
    },
    {
     "data": {
      "text/plain": [
       "RandomForestClassifier(bootstrap=True, class_weight=None, criterion='gini',\n",
       "            max_depth=None, max_features='auto', max_leaf_nodes=None,\n",
       "            min_impurity_decrease=0.0, min_impurity_split=None,\n",
       "            min_samples_leaf=1, min_samples_split=2,\n",
       "            min_weight_fraction_leaf=0.0, n_estimators=10, n_jobs=-1,\n",
       "            oob_score=False, random_state=None, verbose=1,\n",
       "            warm_start=False)"
      ]
     },
     "execution_count": 7,
     "metadata": {},
     "output_type": "execute_result"
    }
   ],
   "source": [
    "from sklearn.ensemble import RandomForestClassifier\n",
    "rf = RandomForestClassifier(n_jobs=-1, verbose=1)\n",
    "rf.fit(X_train, y_train)"
   ]
  },
  {
   "cell_type": "markdown",
   "metadata": {},
   "source": [
    "### Evaluate Results"
   ]
  },
  {
   "cell_type": "code",
   "execution_count": 8,
   "metadata": {},
   "outputs": [
    {
     "name": "stderr",
     "output_type": "stream",
     "text": [
      "[Parallel(n_jobs=8)]: Done   6 out of  10 | elapsed:    0.1s remaining:    0.1s\n",
      "[Parallel(n_jobs=8)]: Done  10 out of  10 | elapsed:    0.2s finished\n"
     ]
    },
    {
     "name": "stdout",
     "output_type": "stream",
     "text": [
      "---- Printing classification report ----\n",
      "             precision    recall  f1-score   support\n",
      "\n",
      "        wlk       0.97      0.99      0.98     34608\n",
      "        sit       1.00      1.00      1.00     33642\n",
      "        std       1.00      1.00      1.00     30438\n",
      "        ups       0.95      0.94      0.95     15572\n",
      "        jog       0.99      0.98      0.98     13487\n",
      "        dws       0.97      0.92      0.95     13179\n",
      "\n",
      "avg / total       0.98      0.98      0.98    140926\n",
      "\n"
     ]
    },
    {
     "data": {
      "text/plain": [
       "0.9817989583185501"
      ]
     },
     "execution_count": 8,
     "metadata": {},
     "output_type": "execute_result"
    }
   ],
   "source": [
    "prediction = rf.predict(X_vald)\n",
    "evaluate_results(y_vald, prediction, classes_names)"
   ]
  },
  {
   "cell_type": "code",
   "execution_count": 9,
   "metadata": {},
   "outputs": [
    {
     "name": "stderr",
     "output_type": "stream",
     "text": [
      "[Parallel(n_jobs=8)]: Done   6 out of  10 | elapsed:    0.2s remaining:    0.2s\n",
      "[Parallel(n_jobs=8)]: Done  10 out of  10 | elapsed:    0.3s finished\n"
     ]
    },
    {
     "name": "stdout",
     "output_type": "stream",
     "text": [
      "---- Printing classification report ----\n",
      "             precision    recall  f1-score   support\n",
      "\n",
      "        wlk       0.97      0.99      0.98     68728\n",
      "        sit       1.00      1.00      1.00     68011\n",
      "        std       1.00      1.00      1.00     61353\n",
      "        ups       0.96      0.94      0.95     31229\n",
      "        jog       0.99      0.98      0.98     26476\n",
      "        dws       0.97      0.93      0.95     26057\n",
      "\n",
      "avg / total       0.98      0.98      0.98    281854\n",
      "\n"
     ]
    },
    {
     "data": {
      "text/plain": [
       "0.9826293045335528"
      ]
     },
     "execution_count": 9,
     "metadata": {},
     "output_type": "execute_result"
    }
   ],
   "source": [
    "prediction_test = rf.predict(X_test)\n",
    "evaluate_results(y_test, prediction_test, classes_names)"
   ]
  },
  {
   "cell_type": "markdown",
   "metadata": {},
   "source": [
    "### Export to CoreML"
   ]
  },
  {
   "cell_type": "code",
   "execution_count": 10,
   "metadata": {},
   "outputs": [],
   "source": [
    "import coremltools\n",
    "core_model = coremltools.converters.sklearn.convert(rf)\n",
    "core_model.save('randomForest.mlmodel')"
   ]
  },
  {
   "cell_type": "markdown",
   "metadata": {},
   "source": [
    "## Logistic Regression Classifier"
   ]
  },
  {
   "cell_type": "code",
   "execution_count": 14,
   "metadata": {},
   "outputs": [
    {
     "name": "stderr",
     "output_type": "stream",
     "text": [
      "/usr/local/lib/python3.6/site-packages/sklearn/linear_model/logistic.py:718: UserWarning: lbfgs failed to converge. Increase the number of iterations.\n",
      "  warnings.warn(\"lbfgs failed to converge. Increase the number \"\n",
      "[Parallel(n_jobs=1)]: Done   1 out of   1 | elapsed:  2.7min finished\n"
     ]
    },
    {
     "data": {
      "text/plain": [
       "LogisticRegression(C=1.0, class_weight=None, dual=False, fit_intercept=True,\n",
       "          intercept_scaling=1, max_iter=300, multi_class='multinomial',\n",
       "          n_jobs=1, penalty='l2', random_state=None, solver='lbfgs',\n",
       "          tol=0.0001, verbose=1, warm_start=False)"
      ]
     },
     "execution_count": 14,
     "metadata": {},
     "output_type": "execute_result"
    }
   ],
   "source": [
    "from sklearn.linear_model import LogisticRegression\n",
    "lr = LogisticRegression(multi_class='multinomial', solver='lbfgs', verbose=1, max_iter=300)\n",
    "lr.fit(X_train, y_train)"
   ]
  },
  {
   "cell_type": "markdown",
   "metadata": {},
   "source": [
    "### Evaluate Results"
   ]
  },
  {
   "cell_type": "code",
   "execution_count": 15,
   "metadata": {},
   "outputs": [
    {
     "name": "stdout",
     "output_type": "stream",
     "text": [
      "---- Printing classification report ----\n",
      "             precision    recall  f1-score   support\n",
      "\n",
      "        wlk       0.61      0.82      0.70     34432\n",
      "        sit       0.99      0.98      0.99     33699\n",
      "        std       0.97      0.98      0.98     30559\n",
      "        ups       0.59      0.45      0.51     15701\n",
      "        jog       0.84      0.83      0.83     13344\n",
      "        dws       0.52      0.21      0.30     13191\n",
      "\n",
      "avg / total       0.79      0.80      0.78    140926\n",
      "\n"
     ]
    }
   ],
   "source": [
    "lr_prediction = lr.predict(X_vald)\n",
    "evaluate_results(y_vald, lr_prediction, classes_names)"
   ]
  },
  {
   "cell_type": "markdown",
   "metadata": {},
   "source": [
    "## Perform the same analysis over the history data set"
   ]
  },
  {
   "cell_type": "code",
   "execution_count": null,
   "metadata": {},
   "outputs": [],
   "source": [
    "hist_df = pd.read_pickle(\"history_10_encoded.pkl\")"
   ]
  },
  {
   "cell_type": "code",
   "execution_count": null,
   "metadata": {},
   "outputs": [],
   "source": [
    "hist_df.head(5)"
   ]
  },
  {
   "cell_type": "code",
   "execution_count": null,
   "metadata": {},
   "outputs": [],
   "source": [
    "hist_df = hist_df.sample(frac=1).reset_index(drop=True)\n",
    "labels_dict = {'wlk': 0, 'sit': 1, \"std\": 2, \"ups\": 3, \"jog\": 4, \"dws\": 5}\n",
    "X, y = hist_df.drop([\"action\"], axis=1), hist_df[\"action\"]\n",
    "y = y.replace(labels_dict)"
   ]
  },
  {
   "cell_type": "code",
   "execution_count": null,
   "metadata": {},
   "outputs": [],
   "source": [
    "num_training = int(hist_df.shape[0] * 0.7)\n",
    "num_validation = int(hist_df.shape[0] * 0.1)\n",
    "X_train, y_train = X[:num_training], y[:num_training]\n",
    "X_vald, y_vald = X[num_training:num_training + num_validation], y[num_training:num_training + num_validation]\n",
    "X_test, y_test = X[num_training + num_validation:], y[num_training + num_validation:]"
   ]
  },
  {
   "cell_type": "code",
   "execution_count": null,
   "metadata": {},
   "outputs": [],
   "source": [
    "from sklearn.ensemble import RandomForestClassifier\n",
    "hist_rf = RandomForestClassifier(n_jobs=-1, verbose=1)\n",
    "hist_rf.fit(X_train, y_train)"
   ]
  },
  {
   "cell_type": "code",
   "execution_count": null,
   "metadata": {},
   "outputs": [],
   "source": [
    "prediction = hist_rf.predict(X_vald)\n",
    "classes_names = create_classes(labels_dict)\n",
    "evaluate_results(y_vald, prediction, classes_names)"
   ]
  },
  {
   "cell_type": "code",
   "execution_count": null,
   "metadata": {},
   "outputs": [],
   "source": [
    "prediction_test = hist_rf.predict(X_test)\n",
    "evaluate_results(y_test, prediction_test, classes_names)"
   ]
  },
  {
   "cell_type": "markdown",
   "metadata": {},
   "source": [
    "Try also here linear model"
   ]
  },
  {
   "cell_type": "code",
   "execution_count": null,
   "metadata": {},
   "outputs": [],
   "source": [
    "from sklearn.linear_model import LogisticRegression\n",
    "lr = LogisticRegression(multi_class='multinomial', solver='lbfgs', verbose=1, max_iter=300)\n",
    "lr.fit(X_train, y_train)"
   ]
  },
  {
   "cell_type": "code",
   "execution_count": null,
   "metadata": {},
   "outputs": [],
   "source": [
    "lr_prediction = lr.predict(X_vald)\n",
    "classes_names = create_classes(labels_dict)\n",
    "evaluate_results(y_vald, lr_prediction, classes_names)"
   ]
  },
  {
   "cell_type": "markdown",
   "metadata": {},
   "source": [
    "# Window Size Performance\n",
    "### Random Forest"
   ]
  },
  {
   "cell_type": "code",
   "execution_count": 72,
   "metadata": {},
   "outputs": [],
   "source": [
    "from sklearn.ensemble import RandomForestClassifier\n",
    "rf = RandomForestClassifier(n_jobs=-1, verbose=1)\n",
    "size_start, size_end, jump = 2, 10, 1"
   ]
  },
  {
   "cell_type": "code",
   "execution_count": 73,
   "metadata": {},
   "outputs": [],
   "source": [
    "accuracies = []\n",
    "sizes = [i for i in range(size_start, size_end, jump)]"
   ]
  },
  {
   "cell_type": "code",
   "execution_count": 74,
   "metadata": {},
   "outputs": [
    {
     "name": "stderr",
     "output_type": "stream",
     "text": [
      "[Parallel(n_jobs=-1)]: Done   6 out of  10 | elapsed:   36.9s remaining:   24.6s\n",
      "[Parallel(n_jobs=-1)]: Done  10 out of  10 | elapsed:  1.0min finished\n",
      "[Parallel(n_jobs=8)]: Done   6 out of  10 | elapsed:    0.1s remaining:    0.1s\n",
      "[Parallel(n_jobs=8)]: Done  10 out of  10 | elapsed:    0.2s finished\n"
     ]
    },
    {
     "name": "stdout",
     "output_type": "stream",
     "text": [
      "---- Printing classification report ----\n",
      "             precision    recall  f1-score   support\n",
      "\n",
      "        wlk       0.85      0.95      0.89     34345\n",
      "        sit       1.00      1.00      1.00     33760\n",
      "        std       0.99      0.99      0.99     30819\n",
      "        ups       0.82      0.75      0.79     15730\n",
      "        jog       0.90      0.89      0.89     13343\n",
      "        dws       0.82      0.67      0.74     13217\n",
      "\n",
      "avg / total       0.92      0.92      0.91    141214\n",
      "\n"
     ]
    },
    {
     "name": "stderr",
     "output_type": "stream",
     "text": [
      "[Parallel(n_jobs=-1)]: Done   6 out of  10 | elapsed:   36.0s remaining:   24.0s\n",
      "[Parallel(n_jobs=-1)]: Done  10 out of  10 | elapsed:   56.6s finished\n",
      "[Parallel(n_jobs=8)]: Done   6 out of  10 | elapsed:    0.1s remaining:    0.1s\n",
      "[Parallel(n_jobs=8)]: Done  10 out of  10 | elapsed:    0.2s finished\n"
     ]
    },
    {
     "name": "stdout",
     "output_type": "stream",
     "text": [
      "---- Printing classification report ----\n",
      "             precision    recall  f1-score   support\n",
      "\n",
      "        wlk       0.88      0.96      0.92     34399\n",
      "        sit       1.00      1.00      1.00     33851\n",
      "        std       0.99      0.99      0.99     30588\n",
      "        ups       0.85      0.79      0.82     15629\n",
      "        jog       0.93      0.92      0.92     13514\n",
      "        dws       0.86      0.73      0.79     13197\n",
      "\n",
      "avg / total       0.93      0.93      0.93    141178\n",
      "\n"
     ]
    },
    {
     "name": "stderr",
     "output_type": "stream",
     "text": [
      "[Parallel(n_jobs=-1)]: Done   6 out of  10 | elapsed:   36.0s remaining:   24.0s\n",
      "[Parallel(n_jobs=-1)]: Done  10 out of  10 | elapsed:   57.3s finished\n",
      "[Parallel(n_jobs=8)]: Done   6 out of  10 | elapsed:    0.1s remaining:    0.1s\n",
      "[Parallel(n_jobs=8)]: Done  10 out of  10 | elapsed:    0.2s finished\n"
     ]
    },
    {
     "name": "stdout",
     "output_type": "stream",
     "text": [
      "---- Printing classification report ----\n",
      "             precision    recall  f1-score   support\n",
      "\n",
      "        wlk       0.91      0.97      0.94     34665\n",
      "        sit       1.00      1.00      1.00     34039\n",
      "        std       1.00      0.99      1.00     30365\n",
      "        ups       0.89      0.84      0.86     15589\n",
      "        jog       0.95      0.95      0.95     13326\n",
      "        dws       0.90      0.79      0.84     13158\n",
      "\n",
      "avg / total       0.95      0.95      0.95    141142\n",
      "\n"
     ]
    },
    {
     "name": "stderr",
     "output_type": "stream",
     "text": [
      "[Parallel(n_jobs=-1)]: Done   6 out of  10 | elapsed:   38.9s remaining:   26.0s\n",
      "[Parallel(n_jobs=-1)]: Done  10 out of  10 | elapsed:  1.0min finished\n",
      "[Parallel(n_jobs=8)]: Done   6 out of  10 | elapsed:    0.1s remaining:    0.1s\n",
      "[Parallel(n_jobs=8)]: Done  10 out of  10 | elapsed:    0.2s finished\n"
     ]
    },
    {
     "name": "stdout",
     "output_type": "stream",
     "text": [
      "---- Printing classification report ----\n",
      "             precision    recall  f1-score   support\n",
      "\n",
      "        wlk       0.93      0.98      0.95     34235\n",
      "        sit       1.00      1.00      1.00     34185\n",
      "        std       1.00      1.00      1.00     30425\n",
      "        ups       0.91      0.87      0.89     15873\n",
      "        jog       0.96      0.96      0.96     13332\n",
      "        dws       0.91      0.83      0.87     13056\n",
      "\n",
      "avg / total       0.96      0.96      0.96    141106\n",
      "\n"
     ]
    },
    {
     "name": "stderr",
     "output_type": "stream",
     "text": [
      "[Parallel(n_jobs=-1)]: Done   6 out of  10 | elapsed:   34.6s remaining:   23.1s\n",
      "[Parallel(n_jobs=-1)]: Done  10 out of  10 | elapsed:   56.0s finished\n",
      "[Parallel(n_jobs=8)]: Done   6 out of  10 | elapsed:    0.1s remaining:    0.1s\n",
      "[Parallel(n_jobs=8)]: Done  10 out of  10 | elapsed:    0.2s finished\n"
     ]
    },
    {
     "name": "stdout",
     "output_type": "stream",
     "text": [
      "---- Printing classification report ----\n",
      "             precision    recall  f1-score   support\n",
      "\n",
      "        wlk       0.94      0.98      0.96     34373\n",
      "        sit       1.00      1.00      1.00     33632\n",
      "        std       1.00      1.00      1.00     30648\n",
      "        ups       0.92      0.89      0.91     15766\n",
      "        jog       0.97      0.96      0.97     13438\n",
      "        dws       0.93      0.86      0.89     13213\n",
      "\n",
      "avg / total       0.97      0.97      0.97    141070\n",
      "\n"
     ]
    },
    {
     "name": "stderr",
     "output_type": "stream",
     "text": [
      "[Parallel(n_jobs=-1)]: Done   6 out of  10 | elapsed:   37.1s remaining:   24.8s\n",
      "[Parallel(n_jobs=-1)]: Done  10 out of  10 | elapsed:   58.9s finished\n",
      "[Parallel(n_jobs=8)]: Done   6 out of  10 | elapsed:    0.1s remaining:    0.1s\n",
      "[Parallel(n_jobs=8)]: Done  10 out of  10 | elapsed:    0.2s finished\n"
     ]
    },
    {
     "name": "stdout",
     "output_type": "stream",
     "text": [
      "---- Printing classification report ----\n",
      "             precision    recall  f1-score   support\n",
      "\n",
      "        wlk       0.95      0.98      0.97     34611\n",
      "        sit       1.00      1.00      1.00     33776\n",
      "        std       1.00      1.00      1.00     30555\n",
      "        ups       0.94      0.91      0.92     15842\n",
      "        jog       0.97      0.97      0.97     13266\n",
      "        dws       0.94      0.89      0.91     12984\n",
      "\n",
      "avg / total       0.97      0.97      0.97    141034\n",
      "\n"
     ]
    },
    {
     "name": "stderr",
     "output_type": "stream",
     "text": [
      "[Parallel(n_jobs=-1)]: Done   6 out of  10 | elapsed:   37.6s remaining:   25.1s\n",
      "[Parallel(n_jobs=-1)]: Done  10 out of  10 | elapsed:   57.5s finished\n",
      "[Parallel(n_jobs=8)]: Done   6 out of  10 | elapsed:    0.1s remaining:    0.1s\n",
      "[Parallel(n_jobs=8)]: Done  10 out of  10 | elapsed:    0.2s finished\n"
     ]
    },
    {
     "name": "stdout",
     "output_type": "stream",
     "text": [
      "---- Printing classification report ----\n",
      "             precision    recall  f1-score   support\n",
      "\n",
      "        wlk       0.95      0.99      0.97     34282\n",
      "        sit       1.00      1.00      1.00     33776\n",
      "        std       1.00      1.00      1.00     30458\n",
      "        ups       0.94      0.92      0.93     15603\n",
      "        jog       0.98      0.98      0.98     13744\n",
      "        dws       0.95      0.90      0.92     13135\n",
      "\n",
      "avg / total       0.98      0.98      0.98    140998\n",
      "\n"
     ]
    },
    {
     "name": "stderr",
     "output_type": "stream",
     "text": [
      "[Parallel(n_jobs=-1)]: Done   6 out of  10 | elapsed:   37.4s remaining:   24.9s\n",
      "[Parallel(n_jobs=-1)]: Done  10 out of  10 | elapsed:   57.4s finished\n",
      "[Parallel(n_jobs=8)]: Done   6 out of  10 | elapsed:    0.1s remaining:    0.1s\n",
      "[Parallel(n_jobs=8)]: Done  10 out of  10 | elapsed:    0.2s finished\n"
     ]
    },
    {
     "name": "stdout",
     "output_type": "stream",
     "text": [
      "---- Printing classification report ----\n",
      "             precision    recall  f1-score   support\n",
      "\n",
      "        wlk       0.96      0.99      0.97     34431\n",
      "        sit       1.00      1.00      1.00     33991\n",
      "        std       1.00      1.00      1.00     30385\n",
      "        ups       0.95      0.93      0.94     15645\n",
      "        jog       0.98      0.98      0.98     13474\n",
      "        dws       0.96      0.92      0.94     13036\n",
      "\n",
      "avg / total       0.98      0.98      0.98    140962\n",
      "\n"
     ]
    }
   ],
   "source": [
    "for size in sizes:\n",
    "    window = SlidingWindow(df, size, num_experiments, num_participants, exclude, analytic_functions_list)\n",
    "    sld_df = window.df\n",
    "    X_train, y_train, X_vald, y_vald, X_test, y_test = data_allocation(sld_df)\n",
    "    rf.fit(X_train, y_train)\n",
    "    \n",
    "    prediction = rf.predict(X_vald)\n",
    "    acc = evaluate_results(y_vald, prediction, classes_names)\n",
    "    accuracies.append(acc)"
   ]
  },
  {
   "cell_type": "code",
   "execution_count": 76,
   "metadata": {},
   "outputs": [
    {
     "data": {
      "text/plain": [
       "<seaborn.axisgrid.FacetGrid at 0x114924a58>"
      ]
     },
     "execution_count": 76,
     "metadata": {},
     "output_type": "execute_result"
    },
    {
     "data": {
      "image/png": "[encoded data removed]",
      "text/plain": [
       "<Figure size 360x360 with 1 Axes>"
      ]
     },
     "metadata": {},
     "output_type": "display_data"
    }
   ],
   "source": [
    "plot_data = [{\"window\": sizes[i], \"accuracy\": accuracies[i]} for i in range(len(sizes))]\n",
    "plot_df = pd.DataFrame(plot_data)\n",
    "sns.lmplot(x=\"window\", y=\"accuracy\", data=plot_df)"
   ]
  },
  {
   "cell_type": "code",
   "execution_count": 80,
   "metadata": {},
   "outputs": [
    {
     "data": {
      "text/plain": [
       "[<matplotlib.lines.Line2D at 0x15c36bb00>]"
      ]
     },
     "execution_count": 80,
     "metadata": {},
     "output_type": "execute_result"
    },
    {
     "data": {
      "image/png": "[encoded data removed]",
      "text/plain": [
       "<Figure size 432x288 with 1 Axes>"
      ]
     },
     "metadata": {},
     "output_type": "display_data"
    }
   ],
   "source": [
    "plt.plot(sizes, accuracies, )"
   ]
  },
  {
   "cell_type": "code",
   "execution_count": 116,
   "metadata": {},
   "outputs": [
    {
     "data": {
      "image/png": "[encoded data removed]",
      "text/plain": [
       "<Figure size 576x576 with 1 Axes>"
      ]
     },
     "metadata": {},
     "output_type": "display_data"
    }
   ],
   "source": [
    "fig = plt.figure(figsize=(8,8))\n",
    "plt.subplot()\n",
    "plt.style.use(\"ggplot\")\n",
    "plt.xticks(sizes)\n",
    "plt.plot(accuracies)\n",
    "plt.gca().tick_params(colors='w', labelsize='large')\n",
    "\n",
    "plt.savefig(\"window_accuracy_plot.png\", transparent=True)"
   ]
  }
 ],
 "metadata": {
  "anaconda-cloud": {},
  "kernelspec": {
   "display_name": "Python 3",
   "language": "python",
   "name": "python3"
  },
  "language_info": {
   "codemirror_mode": {
    "name": "ipython",
    "version": 3
   },
   "file_extension": ".py",
   "mimetype": "text/x-python",
   "name": "python",
   "nbconvert_exporter": "python",
   "pygments_lexer": "ipython3",
   "version": "3.6.4"
  }
 },
 "nbformat": 4,
 "nbformat_minor": 1
}
