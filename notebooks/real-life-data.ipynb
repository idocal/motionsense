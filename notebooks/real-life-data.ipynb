{
 "cells": [
  {
   "cell_type": "markdown",
   "metadata": {},
   "source": [
    "# Imports"
   ]
  },
  {
   "cell_type": "code",
   "execution_count": 99,
   "metadata": {
    "collapsed": true
   },
   "outputs": [],
   "source": [
    "import pandas as pd\n",
    "import os\n",
    "import glob"
   ]
  },
  {
   "cell_type": "markdown",
   "metadata": {},
   "source": [
    "# Constants"
   ]
  },
  {
   "cell_type": "code",
   "execution_count": 100,
   "metadata": {
    "collapsed": true
   },
   "outputs": [],
   "source": [
    "frequency = 100 # samples per sec\n",
    "cut_time = 3 # seconds\n",
    "cut_amount = frequency * cut_time"
   ]
  },
  {
   "cell_type": "code",
   "execution_count": 101,
   "metadata": {
    "collapsed": true
   },
   "outputs": [],
   "source": [
    "features = [\n",
    "    'attitude.roll', 'attitude.pitch', 'attitude.yaw',\n",
    "    'gravity.x', 'gravity.y', 'gravity.z',\n",
    "    'rotationRate.x', 'rotationRate.y', 'rotationRate.z',\n",
    "    'userAcceleration.x', 'userAcceleration.y', 'userAcceleration.z'\n",
    "]\n",
    "\n",
    "labels_dict = {'wlk': 0, 'sit': 1, \"std\": 2, \"ups\": 3, \"jog\": 4, \"dws\": 5}\n",
    "labels = list(labels_dict.keys())"
   ]
  },
  {
   "cell_type": "code",
   "execution_count": 102,
   "metadata": {
    "collapsed": true
   },
   "outputs": [],
   "source": [
    "cwd = os.getcwd()\n",
    "data_dir = os.path.join(cwd, 'real-data')"
   ]
  },
  {
   "cell_type": "code",
   "execution_count": 103,
   "metadata": {
    "collapsed": true
   },
   "outputs": [],
   "source": [
    "partc = 100"
   ]
  },
  {
   "cell_type": "markdown",
   "metadata": {},
   "source": [
    "# Helpers"
   ]
  },
  {
   "cell_type": "code",
   "execution_count": 104,
   "metadata": {
    "collapsed": true
   },
   "outputs": [],
   "source": [
    "def cut_edges(df, amount):\n",
    "    return df[amount:-amount]"
   ]
  },
  {
   "cell_type": "code",
   "execution_count": 105,
   "metadata": {
    "collapsed": true
   },
   "outputs": [],
   "source": [
    "def drop_columns(df, features):\n",
    "    columns = list(df.columns)\n",
    "    cols_to_drop = [col for col in columns if col not in features]\n",
    "    return df.drop(cols_to_drop, axis=1)"
   ]
  },
  {
   "cell_type": "code",
   "execution_count": 106,
   "metadata": {
    "collapsed": true
   },
   "outputs": [],
   "source": [
    "def clean_df(df, amount, features):\n",
    "    new_df = cut_edges(df, amount)\n",
    "    new_df = drop_columns(new_df, features)\n",
    "    return new_df"
   ]
  },
  {
   "cell_type": "code",
   "execution_count": 107,
   "metadata": {
    "collapsed": true
   },
   "outputs": [],
   "source": [
    "def label_file_names(label, filedir):\n",
    "    return glob.glob(filedir + '/' + label + '*.csv')"
   ]
  },
  {
   "cell_type": "markdown",
   "metadata": {},
   "source": [
    "# Process Data"
   ]
  },
  {
   "cell_type": "code",
   "execution_count": 109,
   "metadata": {
    "collapsed": false
   },
   "outputs": [
    {
     "name": "stdout",
     "output_type": "stream",
     "text": [
      "added file: /Users/Ido/workshop/notebooks/real-data/sit3.csv\n",
      "added file: /Users/Ido/workshop/notebooks/real-data/sit2.csv\n",
      "added file: /Users/Ido/workshop/notebooks/real-data/sit1.csv\n",
      "added file: /Users/Ido/workshop/notebooks/real-data/std2.csv\n",
      "added file: /Users/Ido/workshop/notebooks/real-data/std3.csv\n",
      "added file: /Users/Ido/workshop/notebooks/real-data/std1.csv\n",
      "added file: /Users/Ido/workshop/notebooks/real-data/ups2.csv\n",
      "added file: /Users/Ido/workshop/notebooks/real-data/ups3.csv\n",
      "added file: /Users/Ido/workshop/notebooks/real-data/ups1.csv\n",
      "added file: /Users/Ido/workshop/notebooks/real-data/ups4.csv\n",
      "added file: /Users/Ido/workshop/notebooks/real-data/jog2.csv\n",
      "added file: /Users/Ido/workshop/notebooks/real-data/jog3.csv\n",
      "added file: /Users/Ido/workshop/notebooks/real-data/jog1.csv\n",
      "added file: /Users/Ido/workshop/notebooks/real-data/jog4.csv\n",
      "added file: /Users/Ido/workshop/notebooks/real-data/dws3.csv\n",
      "added file: /Users/Ido/workshop/notebooks/real-data/dws2.csv\n",
      "added file: /Users/Ido/workshop/notebooks/real-data/dws1.csv\n",
      "added file: /Users/Ido/workshop/notebooks/real-data/dws4.csv\n"
     ]
    }
   ],
   "source": [
    "frames = []\n",
    "for label in labels:\n",
    "    files = label_file_names(label, data_dir)\n",
    "    for file in files:\n",
    "        df = pd.read_csv(file)\n",
    "        df = clean_df(df, cut_amount, features)\n",
    "        df['partc'] = partc\n",
    "        df['action'] = label\n",
    "        df['action_file_index'] = labels_dict.get(label)\n",
    "        frames.append(df)\n",
    "        print('added file: ' + file)\n",
    "full_data = pd.concat(frames)"
   ]
  },
  {
   "cell_type": "markdown",
   "metadata": {},
   "source": [
    "### Compress result to gzip"
   ]
  },
  {
   "cell_type": "code",
   "execution_count": 110,
   "metadata": {
    "collapsed": true
   },
   "outputs": [],
   "source": [
    "full_data.to_csv('full_real_data.gz', compression='gzip')"
   ]
  }
 ],
 "metadata": {
  "anaconda-cloud": {},
  "kernelspec": {
   "display_name": "Python [conda root]",
   "language": "python",
   "name": "conda-root-py"
  },
  "language_info": {
   "codemirror_mode": {
    "name": "ipython",
    "version": 2
   },
   "file_extension": ".py",
   "mimetype": "text/x-python",
   "name": "python",
   "nbconvert_exporter": "python",
   "pygments_lexer": "ipython2",
   "version": "2.7.12"
  }
 },
 "nbformat": 4,
 "nbformat_minor": 2
}
