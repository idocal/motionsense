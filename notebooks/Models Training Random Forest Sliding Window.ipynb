{
 "cells": [
  {
   "cell_type": "markdown",
   "metadata": {},
   "source": [
    "# Imports"
   ]
  },
  {
   "cell_type": "code",
   "execution_count": 1,
   "metadata": {
    "collapsed": true
   },
   "outputs": [],
   "source": [
    "%matplotlib inline\n",
    "import pandas as pd\n",
    "import numpy as np\n",
    "import seaborn as sns\n",
    "import matplotlib.pyplot as plt\n",
    "from sliding_window import SlidingWindow"
   ]
  },
  {
   "cell_type": "markdown",
   "metadata": {},
   "source": [
    "# Globals"
   ]
  },
  {
   "cell_type": "code",
   "execution_count": 2,
   "metadata": {
    "collapsed": true
   },
   "outputs": [],
   "source": [
    "df = pd.read_csv('full_data.gz', compression='gzip')\n",
    "df = df.drop(['Unnamed: 0'], axis=1).set_index('time')"
   ]
  },
  {
   "cell_type": "code",
   "execution_count": 3,
   "metadata": {
    "collapsed": true
   },
   "outputs": [],
   "source": [
    "num_experiments = 16\n",
    "num_participants = 24\n",
    "exclude = 10\n",
    "analytic_functions_list = ['mean', 'sum', 'median', 'min', 'max', 'std']\n",
    "labels_dict = {'wlk': 0, 'sit': 1, \"std\": 2, \"ups\": 3, \"jog\": 4, \"dws\": 5}"
   ]
  },
  {
   "cell_type": "markdown",
   "metadata": {},
   "source": [
    "# Helper Functions"
   ]
  },
  {
   "cell_type": "code",
   "execution_count": 4,
   "metadata": {
    "collapsed": true
   },
   "outputs": [],
   "source": [
    "def data_allocation(df):\n",
    "    # Define X,Y\n",
    "    df = df.sample(frac=1).reset_index(drop=True)\n",
    "    X, y = df.drop([\"action\"], axis=1), df[\"action\"]\n",
    "    y = y.replace(labels_dict)\n",
    "    \n",
    "    # Divide to training, validation and test set 70%, 10%, 20%\n",
    "    num_training = int(df.shape[0] * 0.7)\n",
    "    num_validation = int(df.shape[0] * 0.1)\n",
    "    X_train, y_train = X[:num_training], y[:num_training]\n",
    "    X_vald, y_vald = X[num_training:num_training + num_validation], y[num_training:num_training + num_validation]\n",
    "    X_test, y_test = X[num_training + num_validation:], y[num_training + num_validation:]\n",
    "    \n",
    "    return X_train, y_train, X_vald, y_vald, X_test, y_test"
   ]
  },
  {
   "cell_type": "code",
   "execution_count": 5,
   "metadata": {
    "collapsed": true
   },
   "outputs": [],
   "source": [
    "def data_allocation_train_dev(df):\n",
    "    # Define X,Y\n",
    "    df = df.sample(frac=1).reset_index(drop=True)\n",
    "    X, y = df.drop([\"action\"], axis=1), df[\"action\"]\n",
    "    y = y.replace(labels_dict)\n",
    "    \n",
    "    # Divide to training, and validation 90%, 10%\n",
    "    num_training = int(df.shape[0] * 0.9)\n",
    "    X_train, y_train = X[:num_training], y[:num_training]\n",
    "    X_vald, y_vald = X[num_training:], y[num_training:]\n",
    "    \n",
    "    return X_train, y_train, X_vald, y_vald"
   ]
  },
  {
   "cell_type": "code",
   "execution_count": 6,
   "metadata": {
    "collapsed": true
   },
   "outputs": [],
   "source": [
    "def data_allocation_only_train(df):\n",
    "    # Define X,Y\n",
    "    df = df.sample(frac=1).reset_index(drop=True)\n",
    "    X, y = df.drop([\"action\"], axis=1), df[\"action\"]\n",
    "    y = y.replace(labels_dict)\n",
    "    \n",
    "    return X, y"
   ]
  },
  {
   "cell_type": "code",
   "execution_count": 7,
   "metadata": {
    "collapsed": true
   },
   "outputs": [],
   "source": [
    "from sklearn.metrics import classification_report, confusion_matrix\n",
    "\n",
    "def create_classes(labels_dict):\n",
    "    classes_indexs = labels_dict.items()\n",
    "    classes_indexs = sorted(classes_indexs, key=lambda x: x[1])\n",
    "    classes_names = [label for label, index in classes_indexs]\n",
    "    return classes_names\n",
    "\n",
    "def evaluate_results(y_true, y_pred, classes):\n",
    "        print(\"---- Printing classification report ----\")\n",
    "        print(classification_report(y_true, y_pred, target_names=classes))\n",
    "        \n",
    "#         accuracy = sum([1 for i in range(len(y_true)) if y_true.tolist()[i] == y_pred[i]]) * 1.0\n",
    "#         accuracy /= len(y_true)\n",
    "#         return accuracy"
   ]
  },
  {
   "cell_type": "markdown",
   "metadata": {},
   "source": [
    "# Model Evaluation"
   ]
  },
  {
   "cell_type": "markdown",
   "metadata": {},
   "source": [
    "## Prepare Dataframe to Classify"
   ]
  },
  {
   "cell_type": "code",
   "execution_count": 8,
   "metadata": {
    "collapsed": false
   },
   "outputs": [],
   "source": [
    "window_size = 20\n",
    "window = SlidingWindow(df, window_size, num_experiments, num_participants, exclude, analytic_functions_list)\n",
    "sld_df = window.df\n",
    "X_train, y_train, X_vald, y_vald = data_allocation_train_dev(sld_df)\n",
    "classes_names = create_classes(labels_dict)"
   ]
  },
  {
   "cell_type": "markdown",
   "metadata": {},
   "source": [
    "## Random Forest Classifier"
   ]
  },
  {
   "cell_type": "code",
   "execution_count": 9,
   "metadata": {
    "collapsed": false
   },
   "outputs": [
    {
     "name": "stderr",
     "output_type": "stream",
     "text": [
      "[Parallel(n_jobs=-1)]: Done  10 out of  10 | elapsed:  1.9min finished\n"
     ]
    },
    {
     "data": {
      "text/plain": [
       "RandomForestClassifier(bootstrap=True, class_weight=None, criterion='gini',\n",
       "            max_depth=None, max_features='auto', max_leaf_nodes=None,\n",
       "            min_impurity_decrease=0.0, min_impurity_split=None,\n",
       "            min_samples_leaf=1, min_samples_split=2,\n",
       "            min_weight_fraction_leaf=0.0, n_estimators=10, n_jobs=-1,\n",
       "            oob_score=False, random_state=None, verbose=1,\n",
       "            warm_start=False)"
      ]
     },
     "execution_count": 9,
     "metadata": {},
     "output_type": "execute_result"
    }
   ],
   "source": [
    "from sklearn.ensemble import RandomForestClassifier\n",
    "rf = RandomForestClassifier(n_jobs=-1, verbose=1)\n",
    "rf.fit(X_train, y_train)"
   ]
  },
  {
   "cell_type": "markdown",
   "metadata": {},
   "source": [
    "### Evaluate Results"
   ]
  },
  {
   "cell_type": "code",
   "execution_count": 10,
   "metadata": {
    "collapsed": false
   },
   "outputs": [
    {
     "name": "stdout",
     "output_type": "stream",
     "text": [
      "---- Printing classification report ----\n",
      "             precision    recall  f1-score   support\n",
      "\n",
      "        wlk       0.99      1.00      0.99     34390\n",
      "        sit       1.00      1.00      1.00     33794\n",
      "        std       1.00      1.00      1.00     30738\n",
      "        ups       0.99      0.99      0.99     15476\n",
      "        jog       1.00      1.00      1.00     13214\n",
      "        dws       1.00      0.98      0.99     12955\n",
      "\n",
      "avg / total       1.00      1.00      1.00    140567\n",
      "\n"
     ]
    },
    {
     "name": "stderr",
     "output_type": "stream",
     "text": [
      "[Parallel(n_jobs=4)]: Done  10 out of  10 | elapsed:    0.1s finished\n"
     ]
    }
   ],
   "source": [
    "prediction = rf.predict(X_vald)\n",
    "evaluate_results(y_vald, prediction, classes_names)"
   ]
  },
  {
   "cell_type": "markdown",
   "metadata": {},
   "source": [
    "### Train over the entire training set (evaluation on the out of time data)"
   ]
  },
  {
   "cell_type": "code",
   "execution_count": 11,
   "metadata": {
    "collapsed": true
   },
   "outputs": [],
   "source": [
    "window_size = 20\n",
    "window = SlidingWindow(df, window_size, num_experiments, num_participants, exclude, analytic_functions_list)\n",
    "sld_df = window.df\n",
    "X_train, y_train = data_allocation_only_train(sld_df)\n",
    "classes_names = create_classes(labels_dict)"
   ]
  },
  {
   "cell_type": "code",
   "execution_count": 12,
   "metadata": {
    "collapsed": false
   },
   "outputs": [
    {
     "name": "stderr",
     "output_type": "stream",
     "text": [
      "[Parallel(n_jobs=-1)]: Done  10 out of  10 | elapsed:  2.0min finished\n"
     ]
    },
    {
     "data": {
      "text/plain": [
       "RandomForestClassifier(bootstrap=True, class_weight=None, criterion='gini',\n",
       "            max_depth=None, max_features='auto', max_leaf_nodes=None,\n",
       "            min_impurity_decrease=0.0, min_impurity_split=None,\n",
       "            min_samples_leaf=1, min_samples_split=2,\n",
       "            min_weight_fraction_leaf=0.0, n_estimators=10, n_jobs=-1,\n",
       "            oob_score=False, random_state=None, verbose=1,\n",
       "            warm_start=False)"
      ]
     },
     "execution_count": 12,
     "metadata": {},
     "output_type": "execute_result"
    }
   ],
   "source": [
    "from sklearn.ensemble import RandomForestClassifier\n",
    "rf = RandomForestClassifier(n_jobs=-1, verbose=1)\n",
    "rf.fit(X_train, y_train)"
   ]
  },
  {
   "cell_type": "markdown",
   "metadata": {},
   "source": [
    "### Save trained object as pickle"
   ]
  },
  {
   "cell_type": "code",
   "execution_count": 13,
   "metadata": {
    "collapsed": false
   },
   "outputs": [
    {
     "data": {
      "text/plain": [
       "['rf_trained.pkl']"
      ]
     },
     "execution_count": 13,
     "metadata": {},
     "output_type": "execute_result"
    }
   ],
   "source": [
    "from sklearn.externals import joblib\n",
    "joblib.dump(rf, 'rf_trained.pkl')"
   ]
  }
 ],
 "metadata": {
  "anaconda-cloud": {},
  "kernelspec": {
   "display_name": "Python [conda root]",
   "language": "python",
   "name": "conda-root-py"
  },
  "language_info": {
   "codemirror_mode": {
    "name": "ipython",
    "version": 2
   },
   "file_extension": ".py",
   "mimetype": "text/x-python",
   "name": "python",
   "nbconvert_exporter": "python",
   "pygments_lexer": "ipython2",
   "version": "2.7.12"
  }
 },
 "nbformat": 4,
 "nbformat_minor": 1
}
