{
 "cells": [
  {
   "cell_type": "code",
   "execution_count": 1,
   "metadata": {
    "collapsed": true
   },
   "outputs": [],
   "source": [
    "import numpy as np\n",
    "import pandas as pd\n",
    "import os"
   ]
  },
  {
   "cell_type": "code",
   "execution_count": 2,
   "metadata": {
    "collapsed": false
   },
   "outputs": [],
   "source": [
    "def load_single_test_expirement(path_to_file, exp_index, partc_id=1):\n",
    "    cols_to_drop = [\"timestamp\", \"timeIntervalSince1970\", 'magneticField.x', \n",
    "                    'magneticField.y', 'magneticField.z', 'magneticField.accuracy']\n",
    "    file_name = path_to_file.split(os.sep)[-1]\n",
    "    name, file_type = file_name.split('.')\n",
    "    action = name[:3]\n",
    "    exp_df = pd.read_csv(path_to_file)\n",
    "    exp_df = exp_df.drop(cols_to_drop, axis=1)\n",
    "    exp_df[\"partc\"] = partc_id\n",
    "    exp_df[\"action\"] = action\n",
    "    exp_df[\"action_file_index\"] = exp_index\n",
    "    return exp_df"
   ]
  },
  {
   "cell_type": "code",
   "execution_count": 3,
   "metadata": {
    "collapsed": true
   },
   "outputs": [],
   "source": [
    "def load_all_expirements(data_path):\n",
    "    df = None\n",
    "    exp_index = 1\n",
    "    for filename in os.listdir(data_path):\n",
    "        file_path = os.path.join(data_path, filename)\n",
    "        current_df = load_single_test_expirement(file_path, exp_index)\n",
    "        exp_index += 1\n",
    "        if df is None:\n",
    "            df = current_df\n",
    "        else:\n",
    "            df = df.append(current_df)\n",
    "    return df"
   ]
  },
  {
   "cell_type": "code",
   "execution_count": 4,
   "metadata": {
    "collapsed": false
   },
   "outputs": [],
   "source": [
    "path = os.path.join(os.getcwd(), 'real-data')\n",
    "df = load_all_expirements(path)"
   ]
  },
  {
   "cell_type": "code",
   "execution_count": 5,
   "metadata": {
    "collapsed": false
   },
   "outputs": [],
   "source": [
    "df.to_csv('full_real_data_new.gz', compression='gzip')"
   ]
  }
 ],
 "metadata": {
  "anaconda-cloud": {},
  "kernelspec": {
   "display_name": "Python [conda root]",
   "language": "python",
   "name": "conda-root-py"
  },
  "language_info": {
   "codemirror_mode": {
    "name": "ipython",
    "version": 2
   },
   "file_extension": ".py",
   "mimetype": "text/x-python",
   "name": "python",
   "nbconvert_exporter": "python",
   "pygments_lexer": "ipython2",
   "version": "2.7.12"
  }
 },
 "nbformat": 4,
 "nbformat_minor": 1
}
