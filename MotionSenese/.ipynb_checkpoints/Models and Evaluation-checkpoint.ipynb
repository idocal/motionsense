{
 "cells": [
  {
   "cell_type": "code",
   "execution_count": 51,
   "metadata": {
    "collapsed": true
   },
   "outputs": [],
   "source": [
    "import pandas as pd\n",
    "import numpy as np"
   ]
  },
  {
   "cell_type": "code",
   "execution_count": 52,
   "metadata": {
    "collapsed": true
   },
   "outputs": [],
   "source": [
    "sld_df = pd.read_pickle(\"sliding_window_5.pkl\")"
   ]
  },
  {
   "cell_type": "code",
   "execution_count": 53,
   "metadata": {
    "collapsed": false
   },
   "outputs": [
    {
     "data": {
      "text/html": [
       "<div>\n",
       "<style>\n",
       "    .dataframe thead tr:only-child th {\n",
       "        text-align: right;\n",
       "    }\n",
       "\n",
       "    .dataframe thead th {\n",
       "        text-align: left;\n",
       "    }\n",
       "\n",
       "    .dataframe tbody tr th {\n",
       "        vertical-align: top;\n",
       "    }\n",
       "</style>\n",
       "<table border=\"1\" class=\"dataframe\">\n",
       "  <thead>\n",
       "    <tr style=\"text-align: right;\">\n",
       "      <th></th>\n",
       "      <th>attitude.roll_sld_mean</th>\n",
       "      <th>attitude.pitch_sld_mean</th>\n",
       "      <th>attitude.yaw_sld_mean</th>\n",
       "      <th>gravity.x_sld_mean</th>\n",
       "      <th>gravity.y_sld_mean</th>\n",
       "      <th>gravity.z_sld_mean</th>\n",
       "      <th>rotationRate.x_sld_mean</th>\n",
       "      <th>rotationRate.y_sld_mean</th>\n",
       "      <th>rotationRate.z_sld_mean</th>\n",
       "      <th>userAcceleration.x_sld_mean</th>\n",
       "      <th>...</th>\n",
       "      <th>gravity.x_sld_std</th>\n",
       "      <th>gravity.y_sld_std</th>\n",
       "      <th>gravity.z_sld_std</th>\n",
       "      <th>rotationRate.x_sld_std</th>\n",
       "      <th>rotationRate.y_sld_std</th>\n",
       "      <th>rotationRate.z_sld_std</th>\n",
       "      <th>userAcceleration.x_sld_std</th>\n",
       "      <th>userAcceleration.y_sld_std</th>\n",
       "      <th>userAcceleration.z_sld_std</th>\n",
       "      <th>action</th>\n",
       "    </tr>\n",
       "  </thead>\n",
       "  <tbody>\n",
       "    <tr>\n",
       "      <th>0</th>\n",
       "      <td>1.508554</td>\n",
       "      <td>-0.706678</td>\n",
       "      <td>0.673377</td>\n",
       "      <td>0.758879</td>\n",
       "      <td>0.649301</td>\n",
       "      <td>-0.047350</td>\n",
       "      <td>0.196176</td>\n",
       "      <td>-0.468312</td>\n",
       "      <td>0.259279</td>\n",
       "      <td>0.117882</td>\n",
       "      <td>...</td>\n",
       "      <td>0.003272</td>\n",
       "      <td>0.004684</td>\n",
       "      <td>0.017458</td>\n",
       "      <td>0.382297</td>\n",
       "      <td>0.632768</td>\n",
       "      <td>0.250362</td>\n",
       "      <td>0.108310</td>\n",
       "      <td>0.116636</td>\n",
       "      <td>0.114529</td>\n",
       "      <td>dws</td>\n",
       "    </tr>\n",
       "    <tr>\n",
       "      <th>1</th>\n",
       "      <td>1.493986</td>\n",
       "      <td>-0.702162</td>\n",
       "      <td>0.670343</td>\n",
       "      <td>0.760919</td>\n",
       "      <td>0.645864</td>\n",
       "      <td>-0.058632</td>\n",
       "      <td>0.096389</td>\n",
       "      <td>-0.713965</td>\n",
       "      <td>0.186258</td>\n",
       "      <td>0.089878</td>\n",
       "      <td>...</td>\n",
       "      <td>0.001428</td>\n",
       "      <td>0.003722</td>\n",
       "      <td>0.022704</td>\n",
       "      <td>0.186595</td>\n",
       "      <td>0.392238</td>\n",
       "      <td>0.138518</td>\n",
       "      <td>0.092437</td>\n",
       "      <td>0.135215</td>\n",
       "      <td>0.121979</td>\n",
       "      <td>dws</td>\n",
       "    </tr>\n",
       "    <tr>\n",
       "      <th>2</th>\n",
       "      <td>1.476773</td>\n",
       "      <td>-0.698904</td>\n",
       "      <td>0.667445</td>\n",
       "      <td>0.761873</td>\n",
       "      <td>0.643369</td>\n",
       "      <td>-0.071936</td>\n",
       "      <td>0.159258</td>\n",
       "      <td>-0.740368</td>\n",
       "      <td>0.128828</td>\n",
       "      <td>0.101607</td>\n",
       "      <td>...</td>\n",
       "      <td>0.001863</td>\n",
       "      <td>0.004684</td>\n",
       "      <td>0.023200</td>\n",
       "      <td>0.133110</td>\n",
       "      <td>0.336004</td>\n",
       "      <td>0.114425</td>\n",
       "      <td>0.083133</td>\n",
       "      <td>0.139628</td>\n",
       "      <td>0.110567</td>\n",
       "      <td>dws</td>\n",
       "    </tr>\n",
       "    <tr>\n",
       "      <th>3</th>\n",
       "      <td>1.462108</td>\n",
       "      <td>-0.696350</td>\n",
       "      <td>0.662537</td>\n",
       "      <td>0.762490</td>\n",
       "      <td>0.641413</td>\n",
       "      <td>-0.083269</td>\n",
       "      <td>0.219216</td>\n",
       "      <td>-0.441307</td>\n",
       "      <td>0.095103</td>\n",
       "      <td>0.117863</td>\n",
       "      <td>...</td>\n",
       "      <td>0.001892</td>\n",
       "      <td>0.004412</td>\n",
       "      <td>0.017546</td>\n",
       "      <td>0.089850</td>\n",
       "      <td>0.574062</td>\n",
       "      <td>0.163152</td>\n",
       "      <td>0.061337</td>\n",
       "      <td>0.141907</td>\n",
       "      <td>0.077013</td>\n",
       "      <td>dws</td>\n",
       "    </tr>\n",
       "    <tr>\n",
       "      <th>4</th>\n",
       "      <td>1.451934</td>\n",
       "      <td>-0.694174</td>\n",
       "      <td>0.655578</td>\n",
       "      <td>0.763086</td>\n",
       "      <td>0.639746</td>\n",
       "      <td>-0.091161</td>\n",
       "      <td>0.323100</td>\n",
       "      <td>-0.195455</td>\n",
       "      <td>0.062607</td>\n",
       "      <td>0.097644</td>\n",
       "      <td>...</td>\n",
       "      <td>0.001318</td>\n",
       "      <td>0.003033</td>\n",
       "      <td>0.011454</td>\n",
       "      <td>0.186474</td>\n",
       "      <td>0.584735</td>\n",
       "      <td>0.189152</td>\n",
       "      <td>0.041021</td>\n",
       "      <td>0.072323</td>\n",
       "      <td>0.088291</td>\n",
       "      <td>dws</td>\n",
       "    </tr>\n",
       "  </tbody>\n",
       "</table>\n",
       "<p>5 rows × 73 columns</p>\n",
       "</div>"
      ],
      "text/plain": [
       "   attitude.roll_sld_mean  attitude.pitch_sld_mean  attitude.yaw_sld_mean  \\\n",
       "0                1.508554                -0.706678               0.673377   \n",
       "1                1.493986                -0.702162               0.670343   \n",
       "2                1.476773                -0.698904               0.667445   \n",
       "3                1.462108                -0.696350               0.662537   \n",
       "4                1.451934                -0.694174               0.655578   \n",
       "\n",
       "   gravity.x_sld_mean  gravity.y_sld_mean  gravity.z_sld_mean  \\\n",
       "0            0.758879            0.649301           -0.047350   \n",
       "1            0.760919            0.645864           -0.058632   \n",
       "2            0.761873            0.643369           -0.071936   \n",
       "3            0.762490            0.641413           -0.083269   \n",
       "4            0.763086            0.639746           -0.091161   \n",
       "\n",
       "   rotationRate.x_sld_mean  rotationRate.y_sld_mean  rotationRate.z_sld_mean  \\\n",
       "0                 0.196176                -0.468312                 0.259279   \n",
       "1                 0.096389                -0.713965                 0.186258   \n",
       "2                 0.159258                -0.740368                 0.128828   \n",
       "3                 0.219216                -0.441307                 0.095103   \n",
       "4                 0.323100                -0.195455                 0.062607   \n",
       "\n",
       "   userAcceleration.x_sld_mean   ...    gravity.x_sld_std  gravity.y_sld_std  \\\n",
       "0                     0.117882   ...             0.003272           0.004684   \n",
       "1                     0.089878   ...             0.001428           0.003722   \n",
       "2                     0.101607   ...             0.001863           0.004684   \n",
       "3                     0.117863   ...             0.001892           0.004412   \n",
       "4                     0.097644   ...             0.001318           0.003033   \n",
       "\n",
       "   gravity.z_sld_std  rotationRate.x_sld_std  rotationRate.y_sld_std  \\\n",
       "0           0.017458                0.382297                0.632768   \n",
       "1           0.022704                0.186595                0.392238   \n",
       "2           0.023200                0.133110                0.336004   \n",
       "3           0.017546                0.089850                0.574062   \n",
       "4           0.011454                0.186474                0.584735   \n",
       "\n",
       "   rotationRate.z_sld_std  userAcceleration.x_sld_std  \\\n",
       "0                0.250362                    0.108310   \n",
       "1                0.138518                    0.092437   \n",
       "2                0.114425                    0.083133   \n",
       "3                0.163152                    0.061337   \n",
       "4                0.189152                    0.041021   \n",
       "\n",
       "   userAcceleration.y_sld_std  userAcceleration.z_sld_std  action  \n",
       "0                    0.116636                    0.114529     dws  \n",
       "1                    0.135215                    0.121979     dws  \n",
       "2                    0.139628                    0.110567     dws  \n",
       "3                    0.141907                    0.077013     dws  \n",
       "4                    0.072323                    0.088291     dws  \n",
       "\n",
       "[5 rows x 73 columns]"
      ]
     },
     "execution_count": 53,
     "metadata": {},
     "output_type": "execute_result"
    }
   ],
   "source": [
    "sld_df.head(5)"
   ]
  },
  {
   "cell_type": "markdown",
   "metadata": {},
   "source": [
    "Shuffle the dataset and divide features and label"
   ]
  },
  {
   "cell_type": "code",
   "execution_count": 54,
   "metadata": {
    "collapsed": false
   },
   "outputs": [],
   "source": [
    "sld_df = sld_df.sample(frac=1).reset_index(drop=True)\n",
    "labels_dict = {'wlk': 0, 'sit': 1, \"std\": 2, \"ups\": 3, \"jog\": 4, \"dws\": 5}\n",
    "X, y = sld_df.drop([\"action\"], axis=1), sld_df[\"action\"]\n",
    "y = y.replace(labels_dict)"
   ]
  },
  {
   "cell_type": "markdown",
   "metadata": {},
   "source": [
    "Divide to training, validation and test set 70%, 10%, 20%"
   ]
  },
  {
   "cell_type": "code",
   "execution_count": 55,
   "metadata": {
    "collapsed": false
   },
   "outputs": [],
   "source": [
    "num_training = int(sld_df.shape[0] * 0.7)\n",
    "num_validation = int(sld_df.shape[0] * 0.1)\n",
    "X_train, y_train = X[:num_training], y[:num_training]\n",
    "X_vald, y_vald = X[num_training:num_training + num_validation], y[num_training:num_training + num_validation]\n",
    "X_test, y_test = X[num_training + num_validation:], y[num_training + num_validation:]"
   ]
  },
  {
   "cell_type": "markdown",
   "metadata": {},
   "source": [
    "Helper functions for evaluating the results"
   ]
  },
  {
   "cell_type": "code",
   "execution_count": 56,
   "metadata": {
    "collapsed": true
   },
   "outputs": [],
   "source": [
    "from sklearn.metrics import classification_report, confusion_matrix\n",
    "\n",
    "def create_classes(labels_dict):\n",
    "    classes_indexs = labels_dict.items()\n",
    "    classes_indexs.sort(key=lambda x: x[1])\n",
    "    classes_names = [label for label, index in classes_indexs]\n",
    "    return classes_names\n",
    "\n",
    "def evaluate_results(y_true, y_pred, classes):\n",
    "        print \"---- Printing classification report ----\"\n",
    "        print classification_report(y_true, y_pred, target_names=classes)"
   ]
  },
  {
   "cell_type": "markdown",
   "metadata": {},
   "source": [
    "Random Forest classifier"
   ]
  },
  {
   "cell_type": "code",
   "execution_count": 40,
   "metadata": {
    "collapsed": false
   },
   "outputs": [
    {
     "name": "stderr",
     "output_type": "stream",
     "text": [
      "[Parallel(n_jobs=-1)]: Done  10 out of  10 | elapsed:  1.5min finished\n"
     ]
    },
    {
     "data": {
      "text/plain": [
       "RandomForestClassifier(bootstrap=True, class_weight=None, criterion='gini',\n",
       "            max_depth=None, max_features='auto', max_leaf_nodes=None,\n",
       "            min_impurity_decrease=0.0, min_impurity_split=None,\n",
       "            min_samples_leaf=1, min_samples_split=2,\n",
       "            min_weight_fraction_leaf=0.0, n_estimators=10, n_jobs=-1,\n",
       "            oob_score=False, random_state=None, verbose=1,\n",
       "            warm_start=False)"
      ]
     },
     "execution_count": 40,
     "metadata": {},
     "output_type": "execute_result"
    }
   ],
   "source": [
    "from sklearn.ensemble import RandomForestClassifier\n",
    "rf = RandomForestClassifier(n_jobs=-1, verbose=1)\n",
    "rf.fit(X_train, y_train)"
   ]
  },
  {
   "cell_type": "code",
   "execution_count": 41,
   "metadata": {
    "collapsed": false
   },
   "outputs": [
    {
     "name": "stderr",
     "output_type": "stream",
     "text": [
      "[Parallel(n_jobs=4)]: Done  10 out of  10 | elapsed:    0.2s finished\n"
     ]
    }
   ],
   "source": [
    "prediction = rf.predict(X_vald)"
   ]
  },
  {
   "cell_type": "code",
   "execution_count": 42,
   "metadata": {
    "collapsed": false
   },
   "outputs": [
    {
     "name": "stdout",
     "output_type": "stream",
     "text": [
      "---- Printing classification report ----\n",
      "             precision    recall  f1-score   support\n",
      "\n",
      "        wlk       0.93      0.98      0.95     34224\n",
      "        sit       1.00      1.00      1.00     33893\n",
      "        std       1.00      1.00      1.00     30918\n",
      "        ups       0.91      0.87      0.89     15698\n",
      "        jog       0.96      0.96      0.96     13220\n",
      "        dws       0.92      0.83      0.87     13153\n",
      "\n",
      "avg / total       0.96      0.96      0.96    141106\n",
      "\n"
     ]
    }
   ],
   "source": [
    "classes_names = create_classes(labels_dict)\n",
    "evaluate_results(y_vald, prediction, classes_names)"
   ]
  },
  {
   "cell_type": "code",
   "execution_count": 43,
   "metadata": {
    "collapsed": false
   },
   "outputs": [
    {
     "name": "stderr",
     "output_type": "stream",
     "text": [
      "[Parallel(n_jobs=4)]: Done  10 out of  10 | elapsed:    0.5s finished\n"
     ]
    },
    {
     "name": "stdout",
     "output_type": "stream",
     "text": [
      "---- Printing classification report ----\n",
      "             precision    recall  f1-score   support\n",
      "\n",
      "        wlk       0.92      0.98      0.95     68636\n",
      "        sit       1.00      1.00      1.00     67876\n",
      "        std       1.00      1.00      1.00     61193\n",
      "        ups       0.91      0.87      0.89     31458\n",
      "        jog       0.96      0.96      0.96     26712\n",
      "        dws       0.92      0.83      0.87     26339\n",
      "\n",
      "avg / total       0.96      0.96      0.96    282214\n",
      "\n"
     ]
    }
   ],
   "source": [
    "prediction_test = rf.predict(X_test)\n",
    "evaluate_results(y_test, prediction_test, classes_names)"
   ]
  },
  {
   "cell_type": "markdown",
   "metadata": {},
   "source": [
    "Try some liner model"
   ]
  },
  {
   "cell_type": "code",
   "execution_count": 58,
   "metadata": {
    "collapsed": false
   },
   "outputs": [
    {
     "name": "stderr",
     "output_type": "stream",
     "text": [
      "[Parallel(n_jobs=1)]: Done   1 out of   1 | elapsed:  3.7min finished\n"
     ]
    },
    {
     "data": {
      "text/plain": [
       "LogisticRegression(C=1.0, class_weight=None, dual=False, fit_intercept=True,\n",
       "          intercept_scaling=1, max_iter=300, multi_class='multinomial',\n",
       "          n_jobs=1, penalty='l2', random_state=None, solver='lbfgs',\n",
       "          tol=0.0001, verbose=1, warm_start=False)"
      ]
     },
     "execution_count": 58,
     "metadata": {},
     "output_type": "execute_result"
    }
   ],
   "source": [
    "from sklearn.linear_model import LogisticRegression\n",
    "lr = LogisticRegression(multi_class='multinomial', solver='lbfgs', verbose=1, max_iter=300)\n",
    "lr.fit(X_train, y_train)"
   ]
  },
  {
   "cell_type": "code",
   "execution_count": 59,
   "metadata": {
    "collapsed": false
   },
   "outputs": [
    {
     "name": "stdout",
     "output_type": "stream",
     "text": [
      "---- Printing classification report ----\n",
      "             precision    recall  f1-score   support\n",
      "\n",
      "        wlk       0.55      0.81      0.66     34388\n",
      "        sit       0.99      0.98      0.98     34225\n",
      "        std       0.96      0.98      0.97     30344\n",
      "        ups       0.53      0.36      0.43     15742\n",
      "        jog       0.75      0.69      0.72     13280\n",
      "        dws       0.45      0.10      0.16     13127\n",
      "\n",
      "avg / total       0.75      0.76      0.74    141106\n",
      "\n"
     ]
    }
   ],
   "source": [
    "lr_prediction = lr.predict(X_vald)\n",
    "classes_names = create_classes(labels_dict)\n",
    "evaluate_results(y_vald, lr_prediction, classes_names)"
   ]
  },
  {
   "cell_type": "markdown",
   "metadata": {},
   "source": [
    "## Perform the same analysis over the history data set"
   ]
  },
  {
   "cell_type": "code",
   "execution_count": 60,
   "metadata": {
    "collapsed": true
   },
   "outputs": [],
   "source": [
    "hist_df = pd.read_pickle(\"history_5_encoded.pkl\")"
   ]
  },
  {
   "cell_type": "code",
   "execution_count": 61,
   "metadata": {
    "collapsed": false
   },
   "outputs": [
    {
     "data": {
      "text/html": [
       "<div>\n",
       "<style>\n",
       "    .dataframe thead tr:only-child th {\n",
       "        text-align: right;\n",
       "    }\n",
       "\n",
       "    .dataframe thead th {\n",
       "        text-align: left;\n",
       "    }\n",
       "\n",
       "    .dataframe tbody tr th {\n",
       "        vertical-align: top;\n",
       "    }\n",
       "</style>\n",
       "<table border=\"1\" class=\"dataframe\">\n",
       "  <thead>\n",
       "    <tr style=\"text-align: right;\">\n",
       "      <th></th>\n",
       "      <th>attitude.roll</th>\n",
       "      <th>attitude.pitch</th>\n",
       "      <th>attitude.yaw</th>\n",
       "      <th>gravity.x</th>\n",
       "      <th>gravity.y</th>\n",
       "      <th>gravity.z</th>\n",
       "      <th>rotationRate.x</th>\n",
       "      <th>rotationRate.y</th>\n",
       "      <th>rotationRate.z</th>\n",
       "      <th>userAcceleration.x</th>\n",
       "      <th>...</th>\n",
       "      <th>prev_5_attitude.yaw</th>\n",
       "      <th>prev_5_gravity.x</th>\n",
       "      <th>prev_5_gravity.y</th>\n",
       "      <th>prev_5_gravity.z</th>\n",
       "      <th>prev_5_rotationRate.x</th>\n",
       "      <th>prev_5_rotationRate.y</th>\n",
       "      <th>prev_5_rotationRate.z</th>\n",
       "      <th>prev_5_userAcceleration.x</th>\n",
       "      <th>prev_5_userAcceleration.y</th>\n",
       "      <th>prev_5_userAcceleration.z</th>\n",
       "    </tr>\n",
       "  </thead>\n",
       "  <tbody>\n",
       "    <tr>\n",
       "      <th>0</th>\n",
       "      <td>1.476302</td>\n",
       "      <td>-0.700807</td>\n",
       "      <td>0.669443</td>\n",
       "      <td>0.760912</td>\n",
       "      <td>0.644835</td>\n",
       "      <td>-0.072116</td>\n",
       "      <td>0.187742</td>\n",
       "      <td>-0.763656</td>\n",
       "      <td>0.226057</td>\n",
       "      <td>0.168241</td>\n",
       "      <td>...</td>\n",
       "      <td>0.696372</td>\n",
       "      <td>0.741895</td>\n",
       "      <td>0.669768</td>\n",
       "      <td>-0.031672</td>\n",
       "      <td>0.316738</td>\n",
       "      <td>0.778180</td>\n",
       "      <td>1.082764</td>\n",
       "      <td>0.294894</td>\n",
       "      <td>-0.184493</td>\n",
       "      <td>0.377542</td>\n",
       "    </tr>\n",
       "    <tr>\n",
       "      <th>1</th>\n",
       "      <td>1.455153</td>\n",
       "      <td>-0.694408</td>\n",
       "      <td>0.662593</td>\n",
       "      <td>0.763300</td>\n",
       "      <td>0.639930</td>\n",
       "      <td>-0.088666</td>\n",
       "      <td>0.343096</td>\n",
       "      <td>-0.803820</td>\n",
       "      <td>0.278468</td>\n",
       "      <td>0.079382</td>\n",
       "      <td>...</td>\n",
       "      <td>0.677762</td>\n",
       "      <td>0.753099</td>\n",
       "      <td>0.657116</td>\n",
       "      <td>-0.032255</td>\n",
       "      <td>0.842032</td>\n",
       "      <td>0.424446</td>\n",
       "      <td>0.643574</td>\n",
       "      <td>0.219405</td>\n",
       "      <td>0.035846</td>\n",
       "      <td>0.114866</td>\n",
       "    </tr>\n",
       "    <tr>\n",
       "      <th>2</th>\n",
       "      <td>1.441702</td>\n",
       "      <td>-0.690710</td>\n",
       "      <td>0.656459</td>\n",
       "      <td>0.764380</td>\n",
       "      <td>0.637084</td>\n",
       "      <td>-0.099229</td>\n",
       "      <td>0.176202</td>\n",
       "      <td>-0.172756</td>\n",
       "      <td>0.056415</td>\n",
       "      <td>0.069360</td>\n",
       "      <td>...</td>\n",
       "      <td>0.670951</td>\n",
       "      <td>0.759611</td>\n",
       "      <td>0.649555</td>\n",
       "      <td>-0.032707</td>\n",
       "      <td>-0.138143</td>\n",
       "      <td>-0.040741</td>\n",
       "      <td>0.343563</td>\n",
       "      <td>0.010714</td>\n",
       "      <td>0.134701</td>\n",
       "      <td>-0.167808</td>\n",
       "    </tr>\n",
       "    <tr>\n",
       "      <th>3</th>\n",
       "      <td>1.443440</td>\n",
       "      <td>-0.691905</td>\n",
       "      <td>0.651196</td>\n",
       "      <td>0.763796</td>\n",
       "      <td>0.638005</td>\n",
       "      <td>-0.097803</td>\n",
       "      <td>0.274786</td>\n",
       "      <td>0.446585</td>\n",
       "      <td>-0.132766</td>\n",
       "      <td>0.072889</td>\n",
       "      <td>...</td>\n",
       "      <td>0.675735</td>\n",
       "      <td>0.760709</td>\n",
       "      <td>0.647788</td>\n",
       "      <td>-0.041140</td>\n",
       "      <td>-0.025005</td>\n",
       "      <td>-1.048717</td>\n",
       "      <td>0.035860</td>\n",
       "      <td>-0.008389</td>\n",
       "      <td>0.136788</td>\n",
       "      <td>0.094958</td>\n",
       "    </tr>\n",
       "    <tr>\n",
       "      <th>4</th>\n",
       "      <td>1.443071</td>\n",
       "      <td>-0.693039</td>\n",
       "      <td>0.638198</td>\n",
       "      <td>0.763042</td>\n",
       "      <td>0.638878</td>\n",
       "      <td>-0.097993</td>\n",
       "      <td>0.633672</td>\n",
       "      <td>0.316372</td>\n",
       "      <td>-0.115137</td>\n",
       "      <td>0.098347</td>\n",
       "      <td>...</td>\n",
       "      <td>0.672994</td>\n",
       "      <td>0.760062</td>\n",
       "      <td>0.647210</td>\n",
       "      <td>-0.058530</td>\n",
       "      <td>0.114253</td>\n",
       "      <td>-0.912890</td>\n",
       "      <td>0.047341</td>\n",
       "      <td>0.199441</td>\n",
       "      <td>0.353996</td>\n",
       "      <td>-0.044299</td>\n",
       "    </tr>\n",
       "  </tbody>\n",
       "</table>\n",
       "<p>5 rows × 73 columns</p>\n",
       "</div>"
      ],
      "text/plain": [
       "   attitude.roll  attitude.pitch  attitude.yaw  gravity.x  gravity.y  \\\n",
       "0       1.476302       -0.700807      0.669443   0.760912   0.644835   \n",
       "1       1.455153       -0.694408      0.662593   0.763300   0.639930   \n",
       "2       1.441702       -0.690710      0.656459   0.764380   0.637084   \n",
       "3       1.443440       -0.691905      0.651196   0.763796   0.638005   \n",
       "4       1.443071       -0.693039      0.638198   0.763042   0.638878   \n",
       "\n",
       "   gravity.z  rotationRate.x  rotationRate.y  rotationRate.z  \\\n",
       "0  -0.072116        0.187742       -0.763656        0.226057   \n",
       "1  -0.088666        0.343096       -0.803820        0.278468   \n",
       "2  -0.099229        0.176202       -0.172756        0.056415   \n",
       "3  -0.097803        0.274786        0.446585       -0.132766   \n",
       "4  -0.097993        0.633672        0.316372       -0.115137   \n",
       "\n",
       "   userAcceleration.x            ...              prev_5_attitude.yaw  \\\n",
       "0            0.168241            ...                         0.696372   \n",
       "1            0.079382            ...                         0.677762   \n",
       "2            0.069360            ...                         0.670951   \n",
       "3            0.072889            ...                         0.675735   \n",
       "4            0.098347            ...                         0.672994   \n",
       "\n",
       "   prev_5_gravity.x prev_5_gravity.y  prev_5_gravity.z  prev_5_rotationRate.x  \\\n",
       "0          0.741895         0.669768         -0.031672               0.316738   \n",
       "1          0.753099         0.657116         -0.032255               0.842032   \n",
       "2          0.759611         0.649555         -0.032707              -0.138143   \n",
       "3          0.760709         0.647788         -0.041140              -0.025005   \n",
       "4          0.760062         0.647210         -0.058530               0.114253   \n",
       "\n",
       "   prev_5_rotationRate.y  prev_5_rotationRate.z  prev_5_userAcceleration.x  \\\n",
       "0               0.778180               1.082764                   0.294894   \n",
       "1               0.424446               0.643574                   0.219405   \n",
       "2              -0.040741               0.343563                   0.010714   \n",
       "3              -1.048717               0.035860                  -0.008389   \n",
       "4              -0.912890               0.047341                   0.199441   \n",
       "\n",
       "   prev_5_userAcceleration.y  prev_5_userAcceleration.z  \n",
       "0                  -0.184493                   0.377542  \n",
       "1                   0.035846                   0.114866  \n",
       "2                   0.134701                  -0.167808  \n",
       "3                   0.136788                   0.094958  \n",
       "4                   0.353996                  -0.044299  \n",
       "\n",
       "[5 rows x 73 columns]"
      ]
     },
     "execution_count": 61,
     "metadata": {},
     "output_type": "execute_result"
    }
   ],
   "source": [
    "hist_df.head(5)"
   ]
  },
  {
   "cell_type": "code",
   "execution_count": 62,
   "metadata": {
    "collapsed": true
   },
   "outputs": [],
   "source": [
    "hist_df = hist_df.sample(frac=1).reset_index(drop=True)\n",
    "labels_dict = {'wlk': 0, 'sit': 1, \"std\": 2, \"ups\": 3, \"jog\": 4, \"dws\": 5}\n",
    "X, y = hist_df.drop([\"action\"], axis=1), hist_df[\"action\"]\n",
    "y = y.replace(labels_dict)"
   ]
  },
  {
   "cell_type": "code",
   "execution_count": 63,
   "metadata": {
    "collapsed": true
   },
   "outputs": [],
   "source": [
    "num_training = int(hist_df.shape[0] * 0.7)\n",
    "num_validation = int(hist_df.shape[0] * 0.1)\n",
    "X_train, y_train = X[:num_training], y[:num_training]\n",
    "X_vald, y_vald = X[num_training:num_training + num_validation], y[num_training:num_training + num_validation]\n",
    "X_test, y_test = X[num_training + num_validation:], y[num_training + num_validation:]"
   ]
  },
  {
   "cell_type": "code",
   "execution_count": 48,
   "metadata": {
    "collapsed": false
   },
   "outputs": [
    {
     "name": "stderr",
     "output_type": "stream",
     "text": [
      "[Parallel(n_jobs=-1)]: Done  10 out of  10 | elapsed:  1.8min finished\n"
     ]
    },
    {
     "data": {
      "text/plain": [
       "RandomForestClassifier(bootstrap=True, class_weight=None, criterion='gini',\n",
       "            max_depth=None, max_features='auto', max_leaf_nodes=None,\n",
       "            min_impurity_decrease=0.0, min_impurity_split=None,\n",
       "            min_samples_leaf=1, min_samples_split=2,\n",
       "            min_weight_fraction_leaf=0.0, n_estimators=10, n_jobs=-1,\n",
       "            oob_score=False, random_state=None, verbose=1,\n",
       "            warm_start=False)"
      ]
     },
     "execution_count": 48,
     "metadata": {},
     "output_type": "execute_result"
    }
   ],
   "source": [
    "from sklearn.ensemble import RandomForestClassifier\n",
    "hist_rf = RandomForestClassifier(n_jobs=-1, verbose=1)\n",
    "hist_rf.fit(X_train, y_train)"
   ]
  },
  {
   "cell_type": "code",
   "execution_count": 49,
   "metadata": {
    "collapsed": false
   },
   "outputs": [
    {
     "name": "stdout",
     "output_type": "stream",
     "text": [
      "---- Printing classification report ----\n",
      "             precision    recall  f1-score   support\n",
      "\n",
      "        wlk       0.91      0.98      0.94     34611\n",
      "        sit       1.00      1.00      1.00     33833\n",
      "        std       1.00      0.99      1.00     30526\n",
      "        ups       0.89      0.84      0.87     15573\n",
      "        jog       0.96      0.95      0.95     13408\n",
      "        dws       0.90      0.80      0.85     13155\n",
      "\n",
      "avg / total       0.95      0.95      0.95    141106\n",
      "\n"
     ]
    },
    {
     "name": "stderr",
     "output_type": "stream",
     "text": [
      "[Parallel(n_jobs=4)]: Done  10 out of  10 | elapsed:    0.3s finished\n"
     ]
    }
   ],
   "source": [
    "prediction = hist_rf.predict(X_vald)\n",
    "classes_names = create_classes(labels_dict)\n",
    "evaluate_results(y_vald, prediction, classes_names)"
   ]
  },
  {
   "cell_type": "code",
   "execution_count": 50,
   "metadata": {
    "collapsed": false
   },
   "outputs": [
    {
     "name": "stderr",
     "output_type": "stream",
     "text": [
      "[Parallel(n_jobs=4)]: Done  10 out of  10 | elapsed:    0.5s finished\n"
     ]
    },
    {
     "name": "stdout",
     "output_type": "stream",
     "text": [
      "---- Printing classification report ----\n",
      "             precision    recall  f1-score   support\n",
      "\n",
      "        wlk       0.91      0.98      0.94     68685\n",
      "        sit       1.00      1.00      1.00     67457\n",
      "        std       1.00      0.99      1.00     61339\n",
      "        ups       0.89      0.85      0.87     31461\n",
      "        jog       0.96      0.95      0.96     26960\n",
      "        dws       0.90      0.79      0.84     26312\n",
      "\n",
      "avg / total       0.95      0.95      0.95    282214\n",
      "\n"
     ]
    }
   ],
   "source": [
    "prediction_test = hist_rf.predict(X_test)\n",
    "evaluate_results(y_test, prediction_test, classes_names)"
   ]
  },
  {
   "cell_type": "markdown",
   "metadata": {},
   "source": [
    "Try also here linear model"
   ]
  },
  {
   "cell_type": "code",
   "execution_count": 64,
   "metadata": {
    "collapsed": false
   },
   "outputs": [
    {
     "name": "stderr",
     "output_type": "stream",
     "text": [
      "[Parallel(n_jobs=1)]: Done   1 out of   1 | elapsed:  3.7min finished\n"
     ]
    },
    {
     "data": {
      "text/plain": [
       "LogisticRegression(C=1.0, class_weight=None, dual=False, fit_intercept=True,\n",
       "          intercept_scaling=1, max_iter=300, multi_class='multinomial',\n",
       "          n_jobs=1, penalty='l2', random_state=None, solver='lbfgs',\n",
       "          tol=0.0001, verbose=1, warm_start=False)"
      ]
     },
     "execution_count": 64,
     "metadata": {},
     "output_type": "execute_result"
    }
   ],
   "source": [
    "from sklearn.linear_model import LogisticRegression\n",
    "lr = LogisticRegression(multi_class='multinomial', solver='lbfgs', verbose=1, max_iter=300)\n",
    "lr.fit(X_train, y_train)"
   ]
  },
  {
   "cell_type": "code",
   "execution_count": 65,
   "metadata": {
    "collapsed": false
   },
   "outputs": [
    {
     "name": "stdout",
     "output_type": "stream",
     "text": [
      "---- Printing classification report ----\n",
      "             precision    recall  f1-score   support\n",
      "\n",
      "        wlk       0.44      0.64      0.52     34180\n",
      "        sit       0.83      0.95      0.89     33687\n",
      "        std       0.52      0.75      0.61     30867\n",
      "        ups       0.34      0.09      0.14     15667\n",
      "        jog       0.45      0.05      0.09     13463\n",
      "        dws       0.38      0.08      0.14     13242\n",
      "\n",
      "avg / total       0.54      0.57      0.51    141106\n",
      "\n"
     ]
    }
   ],
   "source": [
    "lr_prediction = lr.predict(X_vald)\n",
    "classes_names = create_classes(labels_dict)\n",
    "evaluate_results(y_vald, lr_prediction, classes_names)"
   ]
  }
 ],
 "metadata": {
  "kernelspec": {
   "display_name": "Python [conda root]",
   "language": "python",
   "name": "conda-root-py"
  },
  "language_info": {
   "codemirror_mode": {
    "name": "ipython",
    "version": 2
   },
   "file_extension": ".py",
   "mimetype": "text/x-python",
   "name": "python",
   "nbconvert_exporter": "python",
   "pygments_lexer": "ipython2",
   "version": "2.7.12"
  }
 },
 "nbformat": 4,
 "nbformat_minor": 1
}
