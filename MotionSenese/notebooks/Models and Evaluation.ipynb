{
 "cells": [
  {
   "cell_type": "code",
   "execution_count": 1,
   "metadata": {},
   "outputs": [],
   "source": [
    "import pandas as pd\n",
    "import numpy as np"
   ]
  },
  {
   "cell_type": "code",
   "execution_count": 2,
   "metadata": {},
   "outputs": [],
   "source": [
    "sld_df = pd.read_pickle(\"sliding_window_10.pkl\")"
   ]
  },
  {
   "cell_type": "code",
   "execution_count": 3,
   "metadata": {},
   "outputs": [
    {
     "data": {
      "text/html": [
       "<div>\n",
       "<style scoped>\n",
       "    .dataframe tbody tr th:only-of-type {\n",
       "        vertical-align: middle;\n",
       "    }\n",
       "\n",
       "    .dataframe tbody tr th {\n",
       "        vertical-align: top;\n",
       "    }\n",
       "\n",
       "    .dataframe thead th {\n",
       "        text-align: right;\n",
       "    }\n",
       "</style>\n",
       "<table border=\"1\" class=\"dataframe\">\n",
       "  <thead>\n",
       "    <tr style=\"text-align: right;\">\n",
       "      <th></th>\n",
       "      <th>attitude.roll_sld_mean</th>\n",
       "      <th>attitude.pitch_sld_mean</th>\n",
       "      <th>attitude.yaw_sld_mean</th>\n",
       "      <th>gravity.x_sld_mean</th>\n",
       "      <th>gravity.y_sld_mean</th>\n",
       "      <th>gravity.z_sld_mean</th>\n",
       "      <th>rotationRate.x_sld_mean</th>\n",
       "      <th>rotationRate.y_sld_mean</th>\n",
       "      <th>rotationRate.z_sld_mean</th>\n",
       "      <th>userAcceleration.x_sld_mean</th>\n",
       "      <th>...</th>\n",
       "      <th>gravity.x_sld_std</th>\n",
       "      <th>gravity.y_sld_std</th>\n",
       "      <th>gravity.z_sld_std</th>\n",
       "      <th>rotationRate.x_sld_std</th>\n",
       "      <th>rotationRate.y_sld_std</th>\n",
       "      <th>rotationRate.z_sld_std</th>\n",
       "      <th>userAcceleration.x_sld_std</th>\n",
       "      <th>userAcceleration.y_sld_std</th>\n",
       "      <th>userAcceleration.z_sld_std</th>\n",
       "      <th>action</th>\n",
       "    </tr>\n",
       "  </thead>\n",
       "  <tbody>\n",
       "    <tr>\n",
       "      <th>0</th>\n",
       "      <td>1.476032</td>\n",
       "      <td>-0.699698</td>\n",
       "      <td>0.659227</td>\n",
       "      <td>0.761074</td>\n",
       "      <td>0.643965</td>\n",
       "      <td>-0.072516</td>\n",
       "      <td>0.327435</td>\n",
       "      <td>-0.237590</td>\n",
       "      <td>0.125294</td>\n",
       "      <td>0.089179</td>\n",
       "      <td>...</td>\n",
       "      <td>0.003243</td>\n",
       "      <td>0.006475</td>\n",
       "      <td>0.029224</td>\n",
       "      <td>0.346436</td>\n",
       "      <td>0.590791</td>\n",
       "      <td>0.249107</td>\n",
       "      <td>0.083854</td>\n",
       "      <td>0.128267</td>\n",
       "      <td>0.114783</td>\n",
       "      <td>dws</td>\n",
       "    </tr>\n",
       "    <tr>\n",
       "      <th>1</th>\n",
       "      <td>1.464487</td>\n",
       "      <td>-0.697192</td>\n",
       "      <td>0.650675</td>\n",
       "      <td>0.761804</td>\n",
       "      <td>0.642056</td>\n",
       "      <td>-0.081426</td>\n",
       "      <td>0.344311</td>\n",
       "      <td>-0.346253</td>\n",
       "      <td>0.059212</td>\n",
       "      <td>0.058162</td>\n",
       "      <td>...</td>\n",
       "      <td>0.001706</td>\n",
       "      <td>0.004752</td>\n",
       "      <td>0.029167</td>\n",
       "      <td>0.377046</td>\n",
       "      <td>0.554298</td>\n",
       "      <td>0.172086</td>\n",
       "      <td>0.087612</td>\n",
       "      <td>0.140744</td>\n",
       "      <td>0.099833</td>\n",
       "      <td>dws</td>\n",
       "    </tr>\n",
       "    <tr>\n",
       "      <th>2</th>\n",
       "      <td>1.448353</td>\n",
       "      <td>-0.695176</td>\n",
       "      <td>0.639860</td>\n",
       "      <td>0.761559</td>\n",
       "      <td>0.640510</td>\n",
       "      <td>-0.093848</td>\n",
       "      <td>0.481461</td>\n",
       "      <td>-0.525592</td>\n",
       "      <td>0.033799</td>\n",
       "      <td>0.054865</td>\n",
       "      <td>...</td>\n",
       "      <td>0.002168</td>\n",
       "      <td>0.004552</td>\n",
       "      <td>0.032387</td>\n",
       "      <td>0.428049</td>\n",
       "      <td>0.712118</td>\n",
       "      <td>0.141470</td>\n",
       "      <td>0.090179</td>\n",
       "      <td>0.146393</td>\n",
       "      <td>0.097535</td>\n",
       "      <td>dws</td>\n",
       "    </tr>\n",
       "    <tr>\n",
       "      <th>3</th>\n",
       "      <td>1.426500</td>\n",
       "      <td>-0.692378</td>\n",
       "      <td>0.625654</td>\n",
       "      <td>0.760575</td>\n",
       "      <td>0.638354</td>\n",
       "      <td>-0.110722</td>\n",
       "      <td>0.602284</td>\n",
       "      <td>-0.699763</td>\n",
       "      <td>0.062317</td>\n",
       "      <td>0.055195</td>\n",
       "      <td>...</td>\n",
       "      <td>0.004032</td>\n",
       "      <td>0.005687</td>\n",
       "      <td>0.043814</td>\n",
       "      <td>0.439572</td>\n",
       "      <td>1.006450</td>\n",
       "      <td>0.168158</td>\n",
       "      <td>0.089927</td>\n",
       "      <td>0.148507</td>\n",
       "      <td>0.104310</td>\n",
       "      <td>dws</td>\n",
       "    </tr>\n",
       "    <tr>\n",
       "      <th>4</th>\n",
       "      <td>1.399383</td>\n",
       "      <td>-0.688014</td>\n",
       "      <td>0.609652</td>\n",
       "      <td>0.758815</td>\n",
       "      <td>0.634966</td>\n",
       "      <td>-0.131806</td>\n",
       "      <td>0.705380</td>\n",
       "      <td>-0.951931</td>\n",
       "      <td>0.111215</td>\n",
       "      <td>0.041147</td>\n",
       "      <td>...</td>\n",
       "      <td>0.007015</td>\n",
       "      <td>0.008968</td>\n",
       "      <td>0.062607</td>\n",
       "      <td>0.433246</td>\n",
       "      <td>1.329760</td>\n",
       "      <td>0.224856</td>\n",
       "      <td>0.074548</td>\n",
       "      <td>0.091135</td>\n",
       "      <td>0.131904</td>\n",
       "      <td>dws</td>\n",
       "    </tr>\n",
       "  </tbody>\n",
       "</table>\n",
       "<p>5 rows × 73 columns</p>\n",
       "</div>"
      ],
      "text/plain": [
       "   attitude.roll_sld_mean  attitude.pitch_sld_mean  attitude.yaw_sld_mean  \\\n",
       "0                1.476032                -0.699698               0.659227   \n",
       "1                1.464487                -0.697192               0.650675   \n",
       "2                1.448353                -0.695176               0.639860   \n",
       "3                1.426500                -0.692378               0.625654   \n",
       "4                1.399383                -0.688014               0.609652   \n",
       "\n",
       "   gravity.x_sld_mean  gravity.y_sld_mean  gravity.z_sld_mean  \\\n",
       "0            0.761074            0.643965           -0.072516   \n",
       "1            0.761804            0.642056           -0.081426   \n",
       "2            0.761559            0.640510           -0.093848   \n",
       "3            0.760575            0.638354           -0.110722   \n",
       "4            0.758815            0.634966           -0.131806   \n",
       "\n",
       "   rotationRate.x_sld_mean  rotationRate.y_sld_mean  rotationRate.z_sld_mean  \\\n",
       "0                 0.327435                -0.237590                 0.125294   \n",
       "1                 0.344311                -0.346253                 0.059212   \n",
       "2                 0.481461                -0.525592                 0.033799   \n",
       "3                 0.602284                -0.699763                 0.062317   \n",
       "4                 0.705380                -0.951931                 0.111215   \n",
       "\n",
       "   userAcceleration.x_sld_mean   ...    gravity.x_sld_std  gravity.y_sld_std  \\\n",
       "0                     0.089179   ...             0.003243           0.006475   \n",
       "1                     0.058162   ...             0.001706           0.004752   \n",
       "2                     0.054865   ...             0.002168           0.004552   \n",
       "3                     0.055195   ...             0.004032           0.005687   \n",
       "4                     0.041147   ...             0.007015           0.008968   \n",
       "\n",
       "   gravity.z_sld_std  rotationRate.x_sld_std  rotationRate.y_sld_std  \\\n",
       "0           0.029224                0.346436                0.590791   \n",
       "1           0.029167                0.377046                0.554298   \n",
       "2           0.032387                0.428049                0.712118   \n",
       "3           0.043814                0.439572                1.006450   \n",
       "4           0.062607                0.433246                1.329760   \n",
       "\n",
       "   rotationRate.z_sld_std  userAcceleration.x_sld_std  \\\n",
       "0                0.249107                    0.083854   \n",
       "1                0.172086                    0.087612   \n",
       "2                0.141470                    0.090179   \n",
       "3                0.168158                    0.089927   \n",
       "4                0.224856                    0.074548   \n",
       "\n",
       "   userAcceleration.y_sld_std  userAcceleration.z_sld_std  action  \n",
       "0                    0.128267                    0.114783     dws  \n",
       "1                    0.140744                    0.099833     dws  \n",
       "2                    0.146393                    0.097535     dws  \n",
       "3                    0.148507                    0.104310     dws  \n",
       "4                    0.091135                    0.131904     dws  \n",
       "\n",
       "[5 rows x 73 columns]"
      ]
     },
     "execution_count": 3,
     "metadata": {},
     "output_type": "execute_result"
    }
   ],
   "source": [
    "sld_df.head(5)"
   ]
  },
  {
   "cell_type": "markdown",
   "metadata": {},
   "source": [
    "Shuffle the dataset and divide features and label"
   ]
  },
  {
   "cell_type": "code",
   "execution_count": 4,
   "metadata": {},
   "outputs": [],
   "source": [
    "sld_df = sld_df.sample(frac=1).reset_index(drop=True)\n",
    "labels_dict = {'wlk': 0, 'sit': 1, \"std\": 2, \"ups\": 3, \"jog\": 4, \"dws\": 5}\n",
    "X, y = sld_df.drop([\"action\"], axis=1), sld_df[\"action\"]\n",
    "y = y.replace(labels_dict)"
   ]
  },
  {
   "cell_type": "markdown",
   "metadata": {},
   "source": [
    "Divide to training, validation and test set 70%, 10%, 20%"
   ]
  },
  {
   "cell_type": "code",
   "execution_count": 5,
   "metadata": {},
   "outputs": [],
   "source": [
    "num_training = int(sld_df.shape[0] * 0.7)\n",
    "num_validation = int(sld_df.shape[0] * 0.1)\n",
    "X_train, y_train = X[:num_training], y[:num_training]\n",
    "X_vald, y_vald = X[num_training:num_training + num_validation], y[num_training:num_training + num_validation]\n",
    "X_test, y_test = X[num_training + num_validation:], y[num_training + num_validation:]"
   ]
  },
  {
   "cell_type": "markdown",
   "metadata": {},
   "source": [
    "Helper functions for evaluating the results"
   ]
  },
  {
   "cell_type": "code",
   "execution_count": 6,
   "metadata": {},
   "outputs": [],
   "source": [
    "from sklearn.metrics import classification_report, confusion_matrix\n",
    "\n",
    "def create_classes(labels_dict):\n",
    "    classes_indexs = labels_dict.items()\n",
    "    classes_indexs = sorted(classes_indexs, key=lambda x: x[1])\n",
    "#     classes_indexs.sort(key=lambda x: x[1])\n",
    "    classes_names = [label for label, index in classes_indexs]\n",
    "    return classes_names\n",
    "\n",
    "def evaluate_results(y_true, y_pred, classes):\n",
    "        print(\"---- Printing classification report ----\")\n",
    "        print(classification_report(y_true, y_pred, target_names=classes))"
   ]
  },
  {
   "cell_type": "markdown",
   "metadata": {},
   "source": [
    "Random Forest classifier"
   ]
  },
  {
   "cell_type": "code",
   "execution_count": 12,
   "metadata": {},
   "outputs": [
    {
     "name": "stderr",
     "output_type": "stream",
     "text": [
      "[Parallel(n_jobs=-1)]: Done   6 out of  10 | elapsed:   38.0s remaining:   25.3s\n",
      "[Parallel(n_jobs=-1)]: Done  10 out of  10 | elapsed:  1.0min finished\n"
     ]
    },
    {
     "data": {
      "text/plain": [
       "RandomForestClassifier(bootstrap=True, class_weight=None, criterion='gini',\n",
       "            max_depth=None, max_features='auto', max_leaf_nodes=None,\n",
       "            min_impurity_decrease=0.0, min_impurity_split=None,\n",
       "            min_samples_leaf=1, min_samples_split=2,\n",
       "            min_weight_fraction_leaf=0.0, n_estimators=10, n_jobs=-1,\n",
       "            oob_score=False, random_state=None, verbose=1,\n",
       "            warm_start=False)"
      ]
     },
     "execution_count": 12,
     "metadata": {},
     "output_type": "execute_result"
    }
   ],
   "source": [
    "from sklearn.ensemble import RandomForestClassifier\n",
    "rf = RandomForestClassifier(n_jobs=-1, verbose=1)\n",
    "rf.fit(X_train, y_train)"
   ]
  },
  {
   "cell_type": "code",
   "execution_count": 13,
   "metadata": {},
   "outputs": [
    {
     "name": "stderr",
     "output_type": "stream",
     "text": [
      "[Parallel(n_jobs=8)]: Done   6 out of  10 | elapsed:    0.1s remaining:    0.1s\n",
      "[Parallel(n_jobs=8)]: Done  10 out of  10 | elapsed:    0.2s finished\n"
     ]
    }
   ],
   "source": [
    "prediction = rf.predict(X_vald)"
   ]
  },
  {
   "cell_type": "code",
   "execution_count": 14,
   "metadata": {},
   "outputs": [
    {
     "name": "stdout",
     "output_type": "stream",
     "text": [
      "---- Printing classification report ----\n",
      "             precision    recall  f1-score   support\n",
      "\n",
      "        wlk       0.97      0.99      0.98     34360\n",
      "        sit       1.00      1.00      1.00     33658\n",
      "        std       1.00      1.00      1.00     30847\n",
      "        ups       0.96      0.94      0.95     15720\n",
      "        jog       0.99      0.98      0.98     13326\n",
      "        dws       0.97      0.93      0.95     13015\n",
      "\n",
      "avg / total       0.98      0.98      0.98    140926\n",
      "\n"
     ]
    }
   ],
   "source": [
    "classes_names = create_classes(labels_dict)\n",
    "evaluate_results(y_vald, prediction, classes_names)"
   ]
  },
  {
   "cell_type": "code",
   "execution_count": 15,
   "metadata": {},
   "outputs": [
    {
     "name": "stderr",
     "output_type": "stream",
     "text": [
      "[Parallel(n_jobs=8)]: Done   6 out of  10 | elapsed:    0.2s remaining:    0.2s\n",
      "[Parallel(n_jobs=8)]: Done  10 out of  10 | elapsed:    0.3s finished\n"
     ]
    },
    {
     "name": "stdout",
     "output_type": "stream",
     "text": [
      "---- Printing classification report ----\n",
      "             precision    recall  f1-score   support\n",
      "\n",
      "        wlk       0.97      0.99      0.98     68812\n",
      "        sit       1.00      1.00      1.00     67721\n",
      "        std       1.00      1.00      1.00     61454\n",
      "        ups       0.96      0.94      0.95     31116\n",
      "        jog       0.98      0.98      0.98     26503\n",
      "        dws       0.97      0.93      0.95     26248\n",
      "\n",
      "avg / total       0.98      0.98      0.98    281854\n",
      "\n"
     ]
    }
   ],
   "source": [
    "prediction_test = rf.predict(X_test)\n",
    "evaluate_results(y_test, prediction_test, classes_names)"
   ]
  },
  {
   "cell_type": "markdown",
   "metadata": {},
   "source": [
    "Try some liner model"
   ]
  },
  {
   "cell_type": "code",
   "execution_count": 16,
   "metadata": {},
   "outputs": [
    {
     "name": "stderr",
     "output_type": "stream",
     "text": [
      "/usr/local/lib/python3.6/site-packages/sklearn/linear_model/logistic.py:718: UserWarning: lbfgs failed to converge. Increase the number of iterations.\n",
      "  warnings.warn(\"lbfgs failed to converge. Increase the number \"\n",
      "[Parallel(n_jobs=1)]: Done   1 out of   1 | elapsed:  3.4min finished\n"
     ]
    },
    {
     "data": {
      "text/plain": [
       "LogisticRegression(C=1.0, class_weight=None, dual=False, fit_intercept=True,\n",
       "          intercept_scaling=1, max_iter=300, multi_class='multinomial',\n",
       "          n_jobs=1, penalty='l2', random_state=None, solver='lbfgs',\n",
       "          tol=0.0001, verbose=1, warm_start=False)"
      ]
     },
     "execution_count": 16,
     "metadata": {},
     "output_type": "execute_result"
    }
   ],
   "source": [
    "from sklearn.linear_model import LogisticRegression\n",
    "lr = LogisticRegression(multi_class='multinomial', solver='lbfgs', verbose=1, max_iter=300)\n",
    "lr.fit(X_train, y_train)"
   ]
  },
  {
   "cell_type": "code",
   "execution_count": 17,
   "metadata": {},
   "outputs": [
    {
     "name": "stdout",
     "output_type": "stream",
     "text": [
      "---- Printing classification report ----\n",
      "             precision    recall  f1-score   support\n",
      "\n",
      "        wlk       0.62      0.81      0.70     34360\n",
      "        sit       0.99      0.98      0.98     33658\n",
      "        std       0.97      0.98      0.97     30847\n",
      "        ups       0.58      0.47      0.52     15720\n",
      "        jog       0.85      0.83      0.84     13326\n",
      "        dws       0.52      0.21      0.30     13015\n",
      "\n",
      "avg / total       0.79      0.80      0.78    140926\n",
      "\n"
     ]
    }
   ],
   "source": [
    "lr_prediction = lr.predict(X_vald)\n",
    "classes_names = create_classes(labels_dict)\n",
    "evaluate_results(y_vald, lr_prediction, classes_names)"
   ]
  },
  {
   "cell_type": "markdown",
   "metadata": {},
   "source": [
    "SVM Classifier"
   ]
  },
  {
   "cell_type": "code",
   "execution_count": null,
   "metadata": {},
   "outputs": [],
   "source": [
    "from sklearn.svm import SVC\n",
    "svm = SVC()\n",
    "svm.fit(X_train, y_train)"
   ]
  },
  {
   "cell_type": "markdown",
   "metadata": {},
   "source": [
    "## Perform the same analysis over the history data set"
   ]
  },
  {
   "cell_type": "code",
   "execution_count": 18,
   "metadata": {},
   "outputs": [],
   "source": [
    "hist_df = pd.read_pickle(\"history_10_encoded.pkl\")"
   ]
  },
  {
   "cell_type": "code",
   "execution_count": 19,
   "metadata": {},
   "outputs": [
    {
     "data": {
      "text/html": [
       "<div>\n",
       "<style scoped>\n",
       "    .dataframe tbody tr th:only-of-type {\n",
       "        vertical-align: middle;\n",
       "    }\n",
       "\n",
       "    .dataframe tbody tr th {\n",
       "        vertical-align: top;\n",
       "    }\n",
       "\n",
       "    .dataframe thead th {\n",
       "        text-align: right;\n",
       "    }\n",
       "</style>\n",
       "<table border=\"1\" class=\"dataframe\">\n",
       "  <thead>\n",
       "    <tr style=\"text-align: right;\">\n",
       "      <th></th>\n",
       "      <th>attitude.roll</th>\n",
       "      <th>attitude.pitch</th>\n",
       "      <th>attitude.yaw</th>\n",
       "      <th>gravity.x</th>\n",
       "      <th>gravity.y</th>\n",
       "      <th>gravity.z</th>\n",
       "      <th>rotationRate.x</th>\n",
       "      <th>rotationRate.y</th>\n",
       "      <th>rotationRate.z</th>\n",
       "      <th>userAcceleration.x</th>\n",
       "      <th>...</th>\n",
       "      <th>prev_10_attitude.yaw</th>\n",
       "      <th>prev_10_gravity.x</th>\n",
       "      <th>prev_10_gravity.y</th>\n",
       "      <th>prev_10_gravity.z</th>\n",
       "      <th>prev_10_rotationRate.x</th>\n",
       "      <th>prev_10_rotationRate.y</th>\n",
       "      <th>prev_10_rotationRate.z</th>\n",
       "      <th>prev_10_userAcceleration.x</th>\n",
       "      <th>prev_10_userAcceleration.y</th>\n",
       "      <th>prev_10_userAcceleration.z</th>\n",
       "    </tr>\n",
       "  </thead>\n",
       "  <tbody>\n",
       "    <tr>\n",
       "      <th>0</th>\n",
       "      <td>1.434186</td>\n",
       "      <td>-0.693527</td>\n",
       "      <td>0.616938</td>\n",
       "      <td>0.761832</td>\n",
       "      <td>0.639253</td>\n",
       "      <td>-0.104726</td>\n",
       "      <td>0.865711</td>\n",
       "      <td>0.179274</td>\n",
       "      <td>-0.130432</td>\n",
       "      <td>-0.017600</td>\n",
       "      <td>...</td>\n",
       "      <td>0.696372</td>\n",
       "      <td>0.741895</td>\n",
       "      <td>0.669768</td>\n",
       "      <td>-0.031672</td>\n",
       "      <td>0.316738</td>\n",
       "      <td>0.778180</td>\n",
       "      <td>1.082764</td>\n",
       "      <td>0.294894</td>\n",
       "      <td>-0.184493</td>\n",
       "      <td>0.377542</td>\n",
       "    </tr>\n",
       "    <tr>\n",
       "      <th>1</th>\n",
       "      <td>1.412539</td>\n",
       "      <td>-0.691930</td>\n",
       "      <td>0.592240</td>\n",
       "      <td>0.760394</td>\n",
       "      <td>0.638024</td>\n",
       "      <td>-0.121353</td>\n",
       "      <td>1.010791</td>\n",
       "      <td>-0.662185</td>\n",
       "      <td>-0.017245</td>\n",
       "      <td>-0.090762</td>\n",
       "      <td>...</td>\n",
       "      <td>0.677762</td>\n",
       "      <td>0.753099</td>\n",
       "      <td>0.657116</td>\n",
       "      <td>-0.032255</td>\n",
       "      <td>0.842032</td>\n",
       "      <td>0.424446</td>\n",
       "      <td>0.643574</td>\n",
       "      <td>0.219405</td>\n",
       "      <td>0.035846</td>\n",
       "      <td>0.114866</td>\n",
       "    </tr>\n",
       "    <tr>\n",
       "      <th>2</th>\n",
       "      <td>1.366432</td>\n",
       "      <td>-0.686835</td>\n",
       "      <td>0.562806</td>\n",
       "      <td>0.757165</td>\n",
       "      <td>0.634093</td>\n",
       "      <td>-0.156928</td>\n",
       "      <td>1.233366</td>\n",
       "      <td>-1.834122</td>\n",
       "      <td>0.089429</td>\n",
       "      <td>-0.022256</td>\n",
       "      <td>...</td>\n",
       "      <td>0.670951</td>\n",
       "      <td>0.759611</td>\n",
       "      <td>0.649555</td>\n",
       "      <td>-0.032707</td>\n",
       "      <td>-0.138143</td>\n",
       "      <td>-0.040741</td>\n",
       "      <td>0.343563</td>\n",
       "      <td>0.010714</td>\n",
       "      <td>0.134701</td>\n",
       "      <td>-0.167808</td>\n",
       "    </tr>\n",
       "    <tr>\n",
       "      <th>3</th>\n",
       "      <td>1.298239</td>\n",
       "      <td>-0.676703</td>\n",
       "      <td>0.533675</td>\n",
       "      <td>0.750862</td>\n",
       "      <td>0.626226</td>\n",
       "      <td>-0.209876</td>\n",
       "      <td>1.183222</td>\n",
       "      <td>-2.790427</td>\n",
       "      <td>0.321040</td>\n",
       "      <td>-0.005088</td>\n",
       "      <td>...</td>\n",
       "      <td>0.675735</td>\n",
       "      <td>0.760709</td>\n",
       "      <td>0.647788</td>\n",
       "      <td>-0.041140</td>\n",
       "      <td>-0.025005</td>\n",
       "      <td>-1.048717</td>\n",
       "      <td>0.035860</td>\n",
       "      <td>-0.008389</td>\n",
       "      <td>0.136788</td>\n",
       "      <td>0.094958</td>\n",
       "    </tr>\n",
       "    <tr>\n",
       "      <th>4</th>\n",
       "      <td>1.222763</td>\n",
       "      <td>-0.660279</td>\n",
       "      <td>0.512970</td>\n",
       "      <td>0.742468</td>\n",
       "      <td>0.613337</td>\n",
       "      <td>-0.269368</td>\n",
       "      <td>1.145214</td>\n",
       "      <td>-3.434572</td>\n",
       "      <td>0.536324</td>\n",
       "      <td>0.058954</td>\n",
       "      <td>...</td>\n",
       "      <td>0.672994</td>\n",
       "      <td>0.760062</td>\n",
       "      <td>0.647210</td>\n",
       "      <td>-0.058530</td>\n",
       "      <td>0.114253</td>\n",
       "      <td>-0.912890</td>\n",
       "      <td>0.047341</td>\n",
       "      <td>0.199441</td>\n",
       "      <td>0.353996</td>\n",
       "      <td>-0.044299</td>\n",
       "    </tr>\n",
       "  </tbody>\n",
       "</table>\n",
       "<p>5 rows × 133 columns</p>\n",
       "</div>"
      ],
      "text/plain": [
       "   attitude.roll  attitude.pitch  attitude.yaw  gravity.x  gravity.y  \\\n",
       "0       1.434186       -0.693527      0.616938   0.761832   0.639253   \n",
       "1       1.412539       -0.691930      0.592240   0.760394   0.638024   \n",
       "2       1.366432       -0.686835      0.562806   0.757165   0.634093   \n",
       "3       1.298239       -0.676703      0.533675   0.750862   0.626226   \n",
       "4       1.222763       -0.660279      0.512970   0.742468   0.613337   \n",
       "\n",
       "   gravity.z  rotationRate.x  rotationRate.y  rotationRate.z  \\\n",
       "0  -0.104726        0.865711        0.179274       -0.130432   \n",
       "1  -0.121353        1.010791       -0.662185       -0.017245   \n",
       "2  -0.156928        1.233366       -1.834122        0.089429   \n",
       "3  -0.209876        1.183222       -2.790427        0.321040   \n",
       "4  -0.269368        1.145214       -3.434572        0.536324   \n",
       "\n",
       "   userAcceleration.x             ...              prev_10_attitude.yaw  \\\n",
       "0           -0.017600             ...                          0.696372   \n",
       "1           -0.090762             ...                          0.677762   \n",
       "2           -0.022256             ...                          0.670951   \n",
       "3           -0.005088             ...                          0.675735   \n",
       "4            0.058954             ...                          0.672994   \n",
       "\n",
       "   prev_10_gravity.x prev_10_gravity.y  prev_10_gravity.z  \\\n",
       "0           0.741895          0.669768          -0.031672   \n",
       "1           0.753099          0.657116          -0.032255   \n",
       "2           0.759611          0.649555          -0.032707   \n",
       "3           0.760709          0.647788          -0.041140   \n",
       "4           0.760062          0.647210          -0.058530   \n",
       "\n",
       "   prev_10_rotationRate.x  prev_10_rotationRate.y  prev_10_rotationRate.z  \\\n",
       "0                0.316738                0.778180                1.082764   \n",
       "1                0.842032                0.424446                0.643574   \n",
       "2               -0.138143               -0.040741                0.343563   \n",
       "3               -0.025005               -1.048717                0.035860   \n",
       "4                0.114253               -0.912890                0.047341   \n",
       "\n",
       "   prev_10_userAcceleration.x  prev_10_userAcceleration.y  \\\n",
       "0                    0.294894                   -0.184493   \n",
       "1                    0.219405                    0.035846   \n",
       "2                    0.010714                    0.134701   \n",
       "3                   -0.008389                    0.136788   \n",
       "4                    0.199441                    0.353996   \n",
       "\n",
       "   prev_10_userAcceleration.z  \n",
       "0                    0.377542  \n",
       "1                    0.114866  \n",
       "2                   -0.167808  \n",
       "3                    0.094958  \n",
       "4                   -0.044299  \n",
       "\n",
       "[5 rows x 133 columns]"
      ]
     },
     "execution_count": 19,
     "metadata": {},
     "output_type": "execute_result"
    }
   ],
   "source": [
    "hist_df.head(5)"
   ]
  },
  {
   "cell_type": "code",
   "execution_count": 20,
   "metadata": {},
   "outputs": [],
   "source": [
    "hist_df = hist_df.sample(frac=1).reset_index(drop=True)\n",
    "labels_dict = {'wlk': 0, 'sit': 1, \"std\": 2, \"ups\": 3, \"jog\": 4, \"dws\": 5}\n",
    "X, y = hist_df.drop([\"action\"], axis=1), hist_df[\"action\"]\n",
    "y = y.replace(labels_dict)"
   ]
  },
  {
   "cell_type": "code",
   "execution_count": 21,
   "metadata": {},
   "outputs": [],
   "source": [
    "num_training = int(hist_df.shape[0] * 0.7)\n",
    "num_validation = int(hist_df.shape[0] * 0.1)\n",
    "X_train, y_train = X[:num_training], y[:num_training]\n",
    "X_vald, y_vald = X[num_training:num_training + num_validation], y[num_training:num_training + num_validation]\n",
    "X_test, y_test = X[num_training + num_validation:], y[num_training + num_validation:]"
   ]
  },
  {
   "cell_type": "code",
   "execution_count": null,
   "metadata": {},
   "outputs": [],
   "source": [
    "from sklearn.ensemble import RandomForestClassifier\n",
    "hist_rf = RandomForestClassifier(n_jobs=-1, verbose=1)\n",
    "hist_rf.fit(X_train, y_train)"
   ]
  },
  {
   "cell_type": "code",
   "execution_count": null,
   "metadata": {},
   "outputs": [],
   "source": [
    "prediction = hist_rf.predict(X_vald)\n",
    "classes_names = create_classes(labels_dict)\n",
    "evaluate_results(y_vald, prediction, classes_names)"
   ]
  },
  {
   "cell_type": "code",
   "execution_count": null,
   "metadata": {},
   "outputs": [],
   "source": [
    "prediction_test = hist_rf.predict(X_test)\n",
    "evaluate_results(y_test, prediction_test, classes_names)"
   ]
  },
  {
   "cell_type": "markdown",
   "metadata": {},
   "source": [
    "Try also here linear model"
   ]
  },
  {
   "cell_type": "code",
   "execution_count": null,
   "metadata": {},
   "outputs": [],
   "source": [
    "from sklearn.linear_model import LogisticRegression\n",
    "lr = LogisticRegression(multi_class='multinomial', solver='lbfgs', verbose=1, max_iter=300)\n",
    "lr.fit(X_train, y_train)"
   ]
  },
  {
   "cell_type": "code",
   "execution_count": null,
   "metadata": {},
   "outputs": [],
   "source": [
    "lr_prediction = lr.predict(X_vald)\n",
    "classes_names = create_classes(labels_dict)\n",
    "evaluate_results(y_vald, lr_prediction, classes_names)"
   ]
  }
 ],
 "metadata": {
  "anaconda-cloud": {},
  "kernelspec": {
   "display_name": "Python 3",
   "language": "python",
   "name": "python3"
  },
  "language_info": {
   "codemirror_mode": {
    "name": "ipython",
    "version": 3
   },
   "file_extension": ".py",
   "mimetype": "text/x-python",
   "name": "python",
   "nbconvert_exporter": "python",
   "pygments_lexer": "ipython3",
   "version": "3.6.4"
  }
 },
 "nbformat": 4,
 "nbformat_minor": 1
}
